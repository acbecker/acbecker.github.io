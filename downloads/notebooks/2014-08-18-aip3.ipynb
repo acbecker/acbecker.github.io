{
 "metadata": {
  "name": "",
  "signature": "sha256:d85e3206fced4abdf64e452a18a155beb37936f95b26cfd1419adb878ed45d11"
 },
 "nbformat": 3,
 "nbformat_minor": 0,
 "worksheets": [
  {
   "cells": [
    {
     "cell_type": "heading",
     "level": 1,
     "metadata": {},
     "source": [
      "Introduction to Astronomical Image Processing Pipelines : Automating the Process of Discovery"
     ]
    },
    {
     "cell_type": "markdown",
     "metadata": {},
     "source": [
      "This notebook outlines in detail how to perform photometry on astronomical images.  We will assume that the images have already been calibrated, in the sense that the instrument signatures have been removed.  The goal is to measure the brightness of each source within the image, and demonstrate how to undertake optimal point-source photometry by building and using a point spread function for the image.\n",
      "\n",
      "We will demonstrate two sets of packages.  The first part takes a detailed look at the internals of the process using the LSST Data Management software stack (https://confluence.lsstcorp.org/display/LSWUG/Getting+Started+with+the+LSST+Software+Stack).  The second approach (on Monday) outlines an equivalent analysis using the combination of SExtractor (http://www.astromatic.net/software/sextractor) and PSFEx (http://www.astromatic.net/software/psfex).  Oh, and you'll also need ds9 (http://ds9.si.edu/site/Download.html)."
     ]
    },
    {
     "cell_type": "markdown",
     "metadata": {},
     "source": [
      "To \"set up\" the LSST code, and then run this notebook, run the commands below:"
     ]
    },
    {
     "cell_type": "raw",
     "metadata": {},
     "source": [
      "cd /location/to/lsst/code\n",
      "source loadLSST.csh\n",
      "setup pipe_tasks -t v9_2\n",
      "cd /location/to/notebook\n",
      "ipython notebook"
     ]
    },
    {
     "cell_type": "markdown",
     "metadata": {},
     "source": [
      "Next up, download an image from DECam, which has already been processed through the LSST DM pipeline."
     ]
    },
    {
     "cell_type": "code",
     "collapsed": false,
     "input": [
      "%%bash\n",
      "if [ -f calexp-0283453_10.fits ];\n",
      "then\n",
      "    echo \"File calexp-0283453_10.fits exists\"\n",
      "else\n",
      "    echo \"wget http://www.astro.washington.edu/users/becker/tmp/calexp-0283453_10.fits\"\n",
      "    wget http://www.astro.washington.edu/users/becker/tmp/calexp-0283453_10.fits\n",
      "fi"
     ],
     "language": "python",
     "metadata": {},
     "outputs": [
      {
       "output_type": "stream",
       "stream": "stdout",
       "text": [
        "File calexp-0283453_10.fits exists\n"
       ]
      }
     ],
     "prompt_number": 59
    },
    {
     "cell_type": "markdown",
     "metadata": {},
     "source": [
      "For the next several cells, we outline the process of building up a photometric pipeline from a series of Python commands.  In the real world, these code blocks would exist in a single script that you would call on the command line (e.g. like SExtractor).  However, for the purposes of this Data School we break this script down into distinct logical units.\n",
      "\n",
      "We first import all the important functionality that we will need, most of it from LSST (and visible to Python when you \"set up\" the package):"
     ]
    },
    {
     "cell_type": "code",
     "collapsed": false,
     "input": [
      "import sys\n",
      "import numpy as np\n",
      "\n",
      "import lsst.pex.policy as pexPolicy\n",
      "import lsst.afw.detection as afwDetection\n",
      "import lsst.afw.geom as afwGeom\n",
      "import lsst.afw.image as afwImage\n",
      "import lsst.afw.math as afwMath\n",
      "import lsst.afw.table as afwTable\n",
      "import lsst.afw.display.ds9 as ds9\n",
      "import lsst.afw.display.utils as displayUtils\n",
      "import lsst.meas.algorithms as measAlg"
     ],
     "language": "python",
     "metadata": {},
     "outputs": [],
     "prompt_number": 60
    },
    {
     "cell_type": "markdown",
     "metadata": {},
     "source": [
      "Note that some, but not all, of the masks have been removed.  E.g. the saturated star at (603,765) remains masked.\n",
      "\n",
      "We next desire to subtract the background off of the image, so that we can detect peaks above the background.  We set up a grid of 64x64 pixel areas, compute moments of the pixels within each bin (which should be dominated by sky pixels), and fit a smooth function to the values within each bin.  This function represents the background in the image, which we then subtract off."
     ]
    },
    {
     "cell_type": "code",
     "collapsed": false,
     "input": [
      "#\n",
      "# Subtract background\n",
      "#\n",
      "back_size = 256\n",
      "bctrl = afwMath.BackgroundControl(im.getWidth()//back_size  + 1,\n",
      "                                  im.getHeight()//back_size + 1)\n",
      "backobj = afwMath.makeBackground(im, bctrl)\n",
      "im -= backobj.getImageF(\"LINEAR\")\n",
      "ds9.mtv(exposure, frame=frame, title=\"Background Removed\"); frame += 1"
     ],
     "language": "python",
     "metadata": {},
     "outputs": [],
     "prompt_number": 61
    },
    {
     "cell_type": "markdown",
     "metadata": {},
     "source": [
      "Note that the image basically looks the same as in the previous image, but the background values are centered on zero.\n",
      "\n",
      "Next, we look at the statistics of image, which are dominated by the sky pixels.  We look for the clipped mean (by clipping, we remove the high-sigma and low-sigma outliers, with the expectation that removing the high-sigma outliers removes the pixels that are associated with bright sources).  We define an upper threshold for detection of\n",
      "\n",
      " * $mean + 5 \\times standard\\ deviaton$"
     ]
    },
    {
     "cell_type": "code",
     "collapsed": false,
     "input": [
      "nsigma = 5\n",
      "stats = afwMath.makeStatistics(im, afwMath.MEANCLIP | afwMath.STDEVCLIP)\n",
      "threshold = stats.getValue(afwMath.MEANCLIP) + nsigma*stats.getValue(afwMath.STDEVCLIP)\n",
      "print \"Mean of the image is %.3f counts, stdev is %.3f counts\" % (stats.getValue(afwMath.MEANCLIP), stats.getValue(afwMath.STDEVCLIP))\n",
      "print \"The %d-sigma detection threshold is at %.2f counts\" % (nsigma, threshold)"
     ],
     "language": "python",
     "metadata": {},
     "outputs": [
      {
       "output_type": "stream",
       "stream": "stdout",
       "text": [
        "Mean of the image is -0.004 counts, stdev is 10.853 counts\n",
        "The 5-sigma detection threshold is at 54.26 counts\n"
       ]
      }
     ],
     "prompt_number": 62
    },
    {
     "cell_type": "markdown",
     "metadata": {},
     "source": [
      "We next want to look for objects within this image.  Formally, the optimal filter for detecting signals of shape g(x) from within an image $I(x)=A*g(x) + \\epsilon(x)$ is g(x).  In other words, the optimal filter for g(x) is g(x) itself!  For the detection of point sources, g(x) _is_ the Psf of the image.\n",
      "\n",
      "However, at this point in time we don't know the Psf.  So we use an approximation to the Psf; something that is sharply peaked and which falls off with some charateristic width.  Here we use a filter with a FWHM = 2 pixels.  We smooth the image with this filter, which yields a maximum likelihood image for the detection of point sources that have a width of 2 pixels."
     ]
    },
    {
     "cell_type": "code",
     "collapsed": false,
     "input": [
      "#\n",
      "# Smooth image with a\n",
      "#    1 2 1\n",
      "#    2 4 2\n",
      "#    1 2 1\n",
      "# filter\n",
      "oneD = afwMath.PolynomialFunction1D([2, 0, -1])\n",
      "kernel = afwMath.SeparableKernel(3, 3, oneD, oneD)\n",
      "smoothedIm = im.Factory(im.getDimensions())\n",
      "afwMath.convolve(smoothedIm, im, kernel)\n",
      "ds9.mtv(smoothedIm, frame=frame, title=\"Detection Image (smoothed with a filter)\"); frame += 1"
     ],
     "language": "python",
     "metadata": {},
     "outputs": [],
     "prompt_number": 63
    },
    {
     "cell_type": "markdown",
     "metadata": {},
     "source": [
      "Note that this image looks smoothed compared to the previous image; this is the effect of the convolution.  \n",
      "\n",
      "**Also note that we calculate the statistics for detection from the original image, but will perform detection on this smoothed image.**\n",
      "\n",
      "We then search for these 5-sigma peaks within the image, and group together nearby pixels that are also above this threshold.  These are stored in \"footprints\" which represent an associated set of pixels."
     ]
    },
    {
     "cell_type": "code",
     "collapsed": false,
     "input": [
      "npixMin = 1\n",
      "fs0 = afwDetection.FootprintSet(smoothedIm, afwDetection.Threshold(threshold), npixMin)\n",
      "ds9.mtv(smoothedIm, frame=frame, title=\"Detected Footprints at %d sigma\" % (nsigma))\n",
      "for footprint in fs0.getFootprints():\n",
      "    displayUtils.drawFootprint(footprint, frame=frame)\n",
      "frame += 1"
     ],
     "language": "python",
     "metadata": {},
     "outputs": [],
     "prompt_number": 64
    },
    {
     "cell_type": "markdown",
     "metadata": {},
     "source": [
      "Because we are only associating 5-sigma pixels with each other, grow these detections a little bit to include the lower-sigma (e.g. 3-sigma) pixels within the footprint."
     ]
    },
    {
     "cell_type": "code",
     "collapsed": false,
     "input": [
      "grow = 1\n",
      "isotropic = False\n",
      "fs = afwDetection.FootprintSet(fs0, grow, isotropic)\n",
      "ds9.mtv(smoothedIm, frame=frame, title=\"Grown Footprints\")\n",
      "for footprint in fs.getFootprints():\n",
      "    displayUtils.drawFootprint(footprint, frame=frame)\n",
      "frame += 1"
     ],
     "language": "python",
     "metadata": {},
     "outputs": [],
     "prompt_number": 65
    },
    {
     "cell_type": "markdown",
     "metadata": {},
     "source": [
      "Now tell the original image that we have \"detected\" footprints at these positions.  The DETECTION plane of the image will now be set at these pixel locations."
     ]
    },
    {
     "cell_type": "code",
     "collapsed": false,
     "input": [
      "fs.setMask(mi.getMask(), \"DETECTED\")\n",
      "ds9.mtv(mi, frame=frame, title=\"Detection plane in original image\"); frame += 1"
     ],
     "language": "python",
     "metadata": {},
     "outputs": [],
     "prompt_number": 66
    },
    {
     "cell_type": "markdown",
     "metadata": {},
     "source": [
      "Next, we want to perform measurements on each footprint.  This subset of measurements includes zeroth moments (centroids), first moments (flux), second moments (shape)."
     ]
    },
    {
     "cell_type": "code",
     "collapsed": false,
     "input": [
      "# Define the measurements we want to make\n",
      "apRad = 3\n",
      "ctrlCentroid = measAlg.SdssCentroidControl()\n",
      "ctrlAperture = measAlg.SincFluxControl()\n",
      "ctrlAperture.radius2 = apRad\n",
      "\n",
      "# Make a source table schema that is designed to accept the measurement results from each algorithm\n",
      "schema = afwTable.SourceTable.makeMinimalSchema()\n",
      "algorithms = [\n",
      "    measAlg.MeasureSourcesBuilder().addAlgorithm(ctrlCentroid).build(schema),\n",
      "    measAlg.MeasureSourcesBuilder().addAlgorithm(ctrlAperture).build(schema)]\n",
      "    \n",
      "# Build an empty source catalog from this schema\n",
      "cat = afwTable.SourceCatalog(schema)\n",
      "table = cat.table\n",
      "table.defineCentroid(\"centroid.sdss\")\n",
      "table.defineApFlux(\"flux.sinc\")\n",
      "\n",
      "# Turn the Footprints into Sources \n",
      "fs.makeSources(cat)\n",
      "print \"Measuring %d objects\" % (len(cat))\n",
      "\n",
      "# And apply each algorithm to each Source, measuring on the orignal image\n",
      "for source in cat:\n",
      "    for alg in algorithms:\n",
      "        alg.apply(source, exposure)"
     ],
     "language": "python",
     "metadata": {},
     "outputs": [
      {
       "output_type": "stream",
       "stream": "stdout",
       "text": [
        "Measuring 498 objects\n"
       ]
      }
     ],
     "prompt_number": 67
    },
    {
     "cell_type": "markdown",
     "metadata": {},
     "source": [
      "Finally, display the position of each measured source, indicating with \"plus\" signs the measurements."
     ]
    },
    {
     "cell_type": "code",
     "collapsed": false,
     "input": [
      "ds9.mtv(exposure, frame=frame, title=\"Measured Sources\")\n",
      "with ds9.Buffering():\n",
      "    for source in cat:\n",
      "        ds9.dot(\"+\", *source.getCentroid(), frame=frame)\n",
      "frame += 1        "
     ],
     "language": "python",
     "metadata": {},
     "outputs": [],
     "prompt_number": 68
    },
    {
     "cell_type": "heading",
     "level": 1,
     "metadata": {},
     "source": [
      "Can we do better?"
     ]
    },
    {
     "cell_type": "heading",
     "level": 4,
     "metadata": {},
     "source": [
      "Yes we can!  Now that we have measured sources in the image, we can use them to build a Psf model for the image.  \n",
      "\n",
      "This requires separating the stars from the galaxies, and only building the Psf using the stars.  Once we have this Psf, which again is the _optimal filter_ for point source detection, we smooth the image using this filter, re-detect, and re-measure the sources.  \n",
      "\n",
      "Ideally this should give us fewer noise detections of noise and optimal detection depth."
     ]
    },
    {
     "cell_type": "markdown",
     "metadata": {},
     "source": [
      "Many of the details below are bookkeeping and unimportant for understanding conceptually the details of the algorithm.  What we _will_ do is look at the results of the processing to understand what has happened..."
     ]
    },
    {
     "cell_type": "code",
     "collapsed": false,
     "input": [
      "from lsst.meas.algorithms.detection import SourceDetectionTask\n",
      "from lsst.meas.algorithms.measurement import SourceMeasurementTask\n",
      "from lsst.pipe.tasks.measurePsf import MeasurePsfTask\n",
      "\n",
      "schema = afwTable.SourceTable.makeMinimalSchema()\n",
      "\n",
      "config = SourceDetectionTask.ConfigClass()\n",
      "config.reEstimateBackground = False\n",
      "detectionTask = SourceDetectionTask(config=config, schema=schema)\n",
      " \n",
      "config = SourceMeasurementTask.ConfigClass()\n",
      "config.slots.psfFlux = \"flux.sinc\" # use of the psf flux is hardcoded in secondMomentStarSelector\n",
      "measureTask = SourceMeasurementTask(schema, config=config)\n",
      "\n",
      "config = MeasurePsfTask.ConfigClass()\n",
      "starSelector = config.starSelector.apply()\n",
      "starSelector.config.badFlags = [\"flags.pixel.edge\", \"flags.pixel.cr.center\", \"flags.pixel.interpolated.center\", \"flags.pixel.saturated.center\"]\n",
      "psfDeterminer = config.psfDeterminer.apply()\n",
      "psfDeterminer.config.sizeCellX = 128\n",
      "psfDeterminer.config.sizeCellY = 128\n",
      "psfDeterminer.config.spatialOrder = 1\n",
      "psfDeterminer.config.nEigenComponents = 3\n",
      "measurePsfTask = MeasurePsfTask(config=config, schema=schema)\n",
      "\n",
      "# Again clear the detection masks\n",
      "mask = exposure.getMaskedImage().getMask()\n",
      "mask &= ~(mask.getPlaneBitMask(\"DETECTED\")) \n",
      "\n",
      "# And then re-detect, re-measure, select stars, and build the Psf model\n",
      "table = afwTable.SourceTable.make(schema)\n",
      "sources = detectionTask.run(table, exposure, sigma=3).sources\n",
      "measureTask.measure(exposure, sources)\n",
      "result = measurePsfTask.run(exposure, sources)"
     ],
     "language": "python",
     "metadata": {},
     "outputs": [],
     "prompt_number": 69
    },
    {
     "cell_type": "markdown",
     "metadata": {},
     "source": [
      "First, visualize what does the Psf look like?"
     ]
    },
    {
     "cell_type": "code",
     "collapsed": false,
     "input": [
      "psf = result.psf\n",
      "psfIm = psf.computeImage()\n",
      "ds9.mtv(psfIm, frame=frame, title=\"Psf Image\"); frame += 1"
     ],
     "language": "python",
     "metadata": {},
     "outputs": [],
     "prompt_number": 70
    },
    {
     "cell_type": "markdown",
     "metadata": {},
     "source": [
      "Look at how it varies across the image by rendering it in a grid:"
     ]
    },
    {
     "cell_type": "code",
     "collapsed": false,
     "input": [
      "import lsst.meas.algorithms.utils as measUtils\n",
      "cellSet = result.cellSet\n",
      "measUtils.showPsfMosaic(exposure, psf=psf, frame=frame); frame += 1"
     ],
     "language": "python",
     "metadata": {},
     "outputs": [],
     "prompt_number": 71
    },
    {
     "cell_type": "markdown",
     "metadata": {},
     "source": [
      "What objects were identified as stars and used in the Psf model?  Mark in YELLOW if they were candidates for stars, and mark in RED if they were _actually_ used in the Psf fitting."
     ]
    },
    {
     "cell_type": "code",
     "collapsed": false,
     "input": [
      "ds9.mtv(exposure, frame=frame, title=\"Re-Measured Footprints\")\n",
      "with ds9.Buffering():\n",
      "    for s in sources:\n",
      "        xy = s.getCentroid()\n",
      "        ds9.dot('+', *xy, frame=frame)\n",
      "        if s.get(\"calib.psf.candidate\"):\n",
      "            ds9.dot('x', *xy, ctype=ds9.YELLOW, frame=frame)\n",
      "        if s.get(\"calib.psf.used\"):\n",
      "            ds9.dot('o', *xy, size=4, ctype=ds9.RED, frame=frame)\n",
      "frame += 1"
     ],
     "language": "python",
     "metadata": {},
     "outputs": [],
     "prompt_number": 72
    },
    {
     "cell_type": "markdown",
     "metadata": {},
     "source": [
      "Finally, repeat the process of smoothing, detection, and measurement but using the _actual_ Psf.  \n",
      "\n",
      "**However**, because the Psf is a complex function (a 2-dimensional shape that varies spatially) convolutions with an actual Psf are sloooooooww....  Instead, we create a pure Gaussian with the width of the Psf.  The convolution ends up being far faster, with the loss of some accuracy."
     ]
    },
    {
     "cell_type": "code",
     "collapsed": false,
     "input": [
      "shape = psf.computeShape()\n",
      "sigma = shape.getDeterminantRadius()\n",
      "print \"Psf approximate Gaussian sigma = %.3f pixels; FWHM = %.3f pixels\" % (sigma, sigma * 2. * np.sqrt(2. * np.log(2.)))\n",
      "kWidth = (int(sigma * 7 + 0.5) // 2) * 2 + 1 # make sure kernel size is odd\n",
      "gaussFunc = afwMath.GaussianFunction1D(sigma)\n",
      "gaussKernel = afwMath.SeparableKernel(kWidth, kWidth, gaussFunc, gaussFunc)\n",
      "\n",
      "im = exposure.getMaskedImage().getImage()\n",
      "smoothedIm = im.Factory(im.getDimensions())\n",
      "afwMath.convolve(smoothedIm, im, gaussKernel)\n",
      "ds9.mtv(smoothedIm, frame=frame, title=\"Detection Image (smoothed with appx Psf)\"); frame += 1"
     ],
     "language": "python",
     "metadata": {},
     "outputs": [
      {
       "output_type": "stream",
       "stream": "stdout",
       "text": [
        "Psf approximate Gaussian sigma = 1.955 pixels; FWHM = 4.604 pixels\n"
       ]
      }
     ],
     "prompt_number": 73
    },
    {
     "cell_type": "markdown",
     "metadata": {},
     "source": [
      "With the new smoothed image, use the same threshold as defined above to find footprints"
     ]
    },
    {
     "cell_type": "code",
     "collapsed": false,
     "input": [
      "fs0 = afwDetection.FootprintSet(smoothedIm, afwDetection.Threshold(threshold), npixMin)\n",
      "fs = afwDetection.FootprintSet(fs0, grow, isotropic)\n",
      "ds9.mtv(smoothedIm, frame=frame, title=\"Re-detected and re-grown Footprints\")\n",
      "for footprint in fs.getFootprints():\n",
      "    displayUtils.drawFootprint(footprint, frame=frame)\n",
      "frame += 1"
     ],
     "language": "python",
     "metadata": {},
     "outputs": [],
     "prompt_number": 74
    },
    {
     "cell_type": "markdown",
     "metadata": {},
     "source": [
      "And finally, remeasure the detected footprints as a new set of sources"
     ]
    },
    {
     "cell_type": "code",
     "collapsed": false,
     "input": [
      "# Build a new, empty source catalog from this schema\n",
      "cat = afwTable.SourceCatalog(schema)\n",
      "table = cat.table\n",
      "table.defineCentroid(\"centroid.sdss\")\n",
      "table.defineApFlux(\"flux.sinc\")\n",
      "\n",
      "# Turn the Footprints into Sources \n",
      "fs.makeSources(cat)\n",
      "print \"Measuring %d objects\" % (len(cat))\n",
      "\n",
      "# And apply each algorithm to each Source, measuring on the orignal image\n",
      "for source in cat:\n",
      "    for alg in algorithms:\n",
      "        alg.apply(source, exposure)"
     ],
     "language": "python",
     "metadata": {},
     "outputs": [
      {
       "output_type": "stream",
       "stream": "stdout",
       "text": [
        "Measuring 319 objects\n"
       ]
      }
     ],
     "prompt_number": 75
    },
    {
     "cell_type": "markdown",
     "metadata": {},
     "source": [
      "-----------"
     ]
    },
    {
     "cell_type": "heading",
     "level": 1,
     "metadata": {},
     "source": [
      "Doing the same thing in SExtractor/PSFEx"
     ]
    },
    {
     "cell_type": "raw",
     "metadata": {},
     "source": [
      "Download from:\n",
      "    http://www.astromatic.net/software/sextractor\n",
      "    http://www.astromatic.net/software/psfex\n",
      "    \n",
      "Or use MacPorts:\n",
      "    sudo port install sextractor (might need to add \"+gcc48\")\n",
      "    sudo port install psfex (might need to add \"+gcc48\")\n",
      "\n",
      "Data for this demo can be downloaded with:\n",
      "    wget http://www.astro.washington.edu/users/becker/tmp/calexp-0283453_10.fits"
     ]
    },
    {
     "cell_type": "code",
     "collapsed": false,
     "input": [
      "%%bash\n",
      "sex -d"
     ],
     "language": "python",
     "metadata": {},
     "outputs": [
      {
       "output_type": "stream",
       "stream": "stdout",
       "text": [
        "# Default configuration file for SExtractor 2.19.5\n",
        "# EB 2014-06-07\n",
        "#\n",
        " \n",
        "#-------------------------------- Catalog ------------------------------------\n",
        " \n",
        "CATALOG_NAME     test.cat       # name of the output catalog\n",
        "CATALOG_TYPE     ASCII_HEAD     # NONE,ASCII,ASCII_HEAD, ASCII_SKYCAT,\n",
        "                                # ASCII_VOTABLE, FITS_1.0 or FITS_LDAC\n",
        "PARAMETERS_NAME  default.param  # name of the file containing catalog contents\n",
        " \n",
        "#------------------------------- Extraction ----------------------------------\n",
        " \n",
        "DETECT_TYPE      CCD            # CCD (linear) or PHOTO (with gamma correction)\n",
        "DETECT_MINAREA   5              # min. # of pixels above threshold\n",
        "DETECT_THRESH    1.5            # <sigmas> or <threshold>,<ZP> in mag.arcsec-2\n",
        "ANALYSIS_THRESH  1.5            # <sigmas> or <threshold>,<ZP> in mag.arcsec-2\n",
        " \n",
        "FILTER           Y              # apply filter for detection (Y or N)?\n",
        "FILTER_NAME      default.conv   # name of the file containing the filter\n",
        " \n",
        "DEBLEND_NTHRESH  32             # Number of deblending sub-thresholds\n",
        "DEBLEND_MINCONT  0.005          # Minimum contrast parameter for deblending\n",
        " \n",
        "CLEAN            Y              # Clean spurious detections? (Y or N)?\n",
        "CLEAN_PARAM      1.0            # Cleaning efficiency\n",
        " \n",
        "MASK_TYPE        CORRECT        # type of detection MASKing: can be one of\n",
        "                                # NONE, BLANK or CORRECT\n",
        " \n",
        "#------------------------------ Photometry -----------------------------------\n",
        " \n",
        "PHOT_APERTURES   5              # MAG_APER aperture diameter(s) in pixels\n",
        "PHOT_AUTOPARAMS  2.5, 3.5       # MAG_AUTO parameters: <Kron_fact>,<min_radius>\n",
        "PHOT_PETROPARAMS 2.0, 3.5       # MAG_PETRO parameters: <Petrosian_fact>,\n",
        "                                # <min_radius>\n",
        " \n",
        "SATUR_LEVEL      50000.0        # level (in ADUs) at which arises saturation\n",
        "SATUR_KEY        SATURATE       # keyword for saturation level (in ADUs)\n",
        " \n",
        "MAG_ZEROPOINT    0.0            # magnitude zero-point\n",
        "MAG_GAMMA        4.0            # gamma of emulsion (for photographic scans)\n",
        "GAIN             0.0            # detector gain in e-/ADU\n",
        "GAIN_KEY         GAIN           # keyword for detector gain in e-/ADU\n",
        "PIXEL_SCALE      1.0            # size of pixel in arcsec (0=use FITS WCS info)\n",
        " \n",
        "#------------------------- Star/Galaxy Separation ----------------------------\n",
        " \n",
        "SEEING_FWHM      1.2            # stellar FWHM in arcsec\n",
        "STARNNW_NAME     default.nnw    # Neural-Network_Weight table filename\n",
        " \n",
        "#------------------------------ Background -----------------------------------\n",
        " \n",
        "BACK_SIZE        64             # Background mesh: <size> or <width>,<height>\n",
        "BACK_FILTERSIZE  3              # Background filter: <size> or <width>,<height>\n",
        " \n",
        "BACKPHOTO_TYPE   GLOBAL         # can be GLOBAL or LOCAL\n",
        " \n",
        "#------------------------------ Check Image ----------------------------------\n",
        " \n",
        "CHECKIMAGE_TYPE  NONE           # can be NONE, BACKGROUND, BACKGROUND_RMS,\n",
        "                                # MINIBACKGROUND, MINIBACK_RMS, -BACKGROUND,\n",
        "                                # FILTERED, OBJECTS, -OBJECTS, SEGMENTATION,\n",
        "                                # or APERTURES\n",
        "CHECKIMAGE_NAME  check.fits     # Filename for the check-image\n",
        " \n",
        "#--------------------- Memory (change with caution!) -------------------------\n",
        " \n",
        "MEMORY_OBJSTACK  3000           # number of objects in stack\n",
        "MEMORY_PIXSTACK  300000         # number of pixels in stack\n",
        "MEMORY_BUFSIZE   1024           # number of lines in buffer\n",
        " \n",
        "#----------------------------- Miscellaneous ---------------------------------\n",
        " \n",
        "VERBOSE_TYPE     NORMAL         # can be QUIET, NORMAL or FULL\n",
        "HEADER_SUFFIX    .head          # Filename extension for additional headers\n",
        "WRITE_XML        N              # Write XML file (Y/N)?\n",
        "XML_NAME         sex.xml        # Filename for XML output\n"
       ]
      }
     ],
     "prompt_number": 76
    },
    {
     "cell_type": "markdown",
     "metadata": {},
     "source": [
      "There are 3 main types of files you need to use for SExtractor:\n",
      "    \n",
      "    * default.param: The parameters you want to measure.  Turn off by prefixing a line with comments (\"#\")\n",
      "    * default.conv: The filter you convolve the image with\n",
      "    * default.sex: The configuration of the source measurement code (gotten from the output of \"sex -d\")"
     ]
    },
    {
     "cell_type": "code",
     "collapsed": false,
     "input": [
      "%%bash\n",
      "cp /opt/local/share/sextractor/default.param .\n",
      "cp /opt/local/share/sextractor/default.conv .\n",
      "cp /opt/local/share/sextractor/default.sex .\n",
      "\n",
      "cat default.param | grep -v ^\\#"
     ],
     "language": "python",
     "metadata": {},
     "outputs": [
      {
       "output_type": "stream",
       "stream": "stdout",
       "text": [
        "FLUX_APER                #Flux vector within fixed circular aperture(s)             [count]\n",
        "FLUXERR_APER             #RMS error vector for aperture flux(es)                    [count]\n",
        "FLUX_MAX                  Peak flux above background                                [count]\n",
        "X_IMAGE                   Object position along x                                   [pixel]\n",
        "Y_IMAGE                   Object position along y                                   [pixel]\n",
        "FLAGS                     Extraction flags                                         \n",
        "ELONGATION                A_IMAGE/B_IMAGE                                          \n",
        "VIGNET(25,25)            #Pixel data around detection                               [count]\n",
        "FLUX_RADIUS(1)           #Fraction-of-light radii                                   [pixel]\n",
        "SNR_WIN\n"
       ]
      }
     ],
     "prompt_number": 77
    },
    {
     "cell_type": "code",
     "collapsed": false,
     "input": [
      "%%bash\n",
      "cat default.conv"
     ],
     "language": "python",
     "metadata": {},
     "outputs": [
      {
       "output_type": "stream",
       "stream": "stdout",
       "text": [
        "CONV NORM\n",
        "# 3x3 ``all-ground'' convolution mask with FWHM = 2 pixels.\n",
        "1 2 1\n",
        "2 4 2\n",
        "1 2 1\n"
       ]
      }
     ],
     "prompt_number": 78
    },
    {
     "cell_type": "code",
     "collapsed": false,
     "input": [
      "%%bash\n",
      "cat default.sex"
     ],
     "language": "python",
     "metadata": {},
     "outputs": [
      {
       "output_type": "stream",
       "stream": "stdout",
       "text": [
        "# Default configuration file for SExtractor 2.12.4\n",
        "# EB 2010-10-10\n",
        "#\n",
        " \n",
        "#-------------------------------- Catalog ------------------------------------\n",
        " \n",
        "CATALOG_NAME     test.cat       # name of the output catalog\n",
        "CATALOG_TYPE     ASCII_HEAD     # NONE,ASCII,ASCII_HEAD, ASCII_SKYCAT,\n",
        "                                # ASCII_VOTABLE, FITS_1.0 or FITS_LDAC\n",
        "PARAMETERS_NAME  default.param  # name of the file containing catalog contents\n",
        " \n",
        "#------------------------------- Extraction ----------------------------------\n",
        " \n",
        "DETECT_TYPE      CCD            # CCD (linear) or PHOTO (with gamma correction)\n",
        "DETECT_MINAREA   3              # min. # of pixels above threshold\n",
        "\n",
        "DETECT_THRESH    5.0            # <sigmas> or <threshold>,<ZP> in mag.arcsec-2\n",
        "ANALYSIS_THRESH  5.0            # <sigmas> or <threshold>,<ZP> in mag.arcsec-2\n",
        " \n",
        "FILTER           Y              # apply filter for detection (Y or N)?\n",
        "FILTER_NAME      default.conv   # name of the file containing the filter\n",
        " \n",
        "DEBLEND_NTHRESH  32             # Number of deblending sub-thresholds\n",
        "DEBLEND_MINCONT  0.005          # Minimum contrast parameter for deblending\n",
        " \n",
        "CLEAN            Y              # Clean spurious detections? (Y or N)?\n",
        "CLEAN_PARAM      1.0            # Cleaning efficiency\n",
        " \n",
        "#-------------------------------- WEIGHTing ----------------------------------\n",
        "\n",
        "WEIGHT_TYPE      NONE           # type of WEIGHTing: NONE, BACKGROUND,\n",
        "                                # MAP_RMS, MAP_VAR or MAP_WEIGHT\n",
        "WEIGHT_IMAGE     weight.fits    # weight-map filename\n",
        "\n",
        "#-------------------------------- FLAGging -----------------------------------\n",
        "\n",
        "FLAG_IMAGE       flag.fits      # filename for an input FLAG-image\n",
        "FLAG_TYPE        OR             # flag pixel combination: OR, AND, MIN, MAX\n",
        "                                # or MOST\n",
        "\n",
        "#------------------------------ Photometry -----------------------------------\n",
        " \n",
        "PHOT_APERTURES   5              # MAG_APER aperture diameter(s) in pixels\n",
        "PHOT_AUTOPARAMS  2.5, 3.5       # MAG_AUTO parameters: <Kron_fact>,<min_radius>\n",
        "PHOT_PETROPARAMS 2.0, 3.5       # MAG_PETRO parameters: <Petrosian_fact>,\n",
        "                                # <min_radius>\n",
        "PHOT_AUTOAPERS   0.0,0.0        # <estimation>,<measurement> minimum apertures\n",
        "                                # for MAG_AUTO and MAG_PETRO\n",
        "\n",
        "SATUR_LEVEL      50000.0        # level (in ADUs) at which arises saturation\n",
        "SATUR_KEY        SATURATE       # keyword for saturation level (in ADUs)\n",
        " \n",
        "MAG_ZEROPOINT    0.0            # magnitude zero-point\n",
        "MAG_GAMMA        4.0            # gamma of emulsion (for photographic scans)\n",
        "GAIN             0.0            # detector gain in e-/ADU\n",
        "GAIN_KEY         GAIN           # keyword for detector gain in e-/ADU\n",
        "PIXEL_SCALE      1.0            # size of pixel in arcsec (0=use FITS WCS info)\n",
        " \n",
        "#------------------------- Star/Galaxy Separation ----------------------------\n",
        " \n",
        "SEEING_FWHM      1.2            # stellar FWHM in arcsec\n",
        "STARNNW_NAME     default.nnw    # Neural-Network_Weight table filename\n",
        " \n",
        "#------------------------------ Background -----------------------------------\n",
        " \n",
        "BACK_TYPE        AUTO           # AUTO or MANUAL\n",
        "BACK_VALUE       0.0            # Default background value in MANUAL mode\n",
        "BACK_SIZE        64             # Background mesh: <size> or <width>,<height>\n",
        "BACK_FILTERSIZE  3              # Background filter: <size> or <width>,<height>\n",
        " \n",
        "#------------------------------ Check Image ----------------------------------\n",
        " \n",
        "CHECKIMAGE_TYPE  NONE           # can be NONE, BACKGROUND, BACKGROUND_RMS,\n",
        "                                # MINIBACKGROUND, MINIBACK_RMS, -BACKGROUND,\n",
        "                                # FILTERED, OBJECTS, -OBJECTS, SEGMENTATION,\n",
        "                                # or APERTURES\n",
        "CHECKIMAGE_NAME  check.fits     # Filename for the check-image\n",
        " \n",
        "#--------------------- Memory (change with caution!) -------------------------\n",
        " \n",
        "MEMORY_OBJSTACK  3000           # number of objects in stack\n",
        "MEMORY_PIXSTACK  300000         # number of pixels in stack\n",
        "MEMORY_BUFSIZE   1024           # number of lines in buffer\n",
        " \n",
        "#------------------------------- ASSOCiation ---------------------------------\n",
        "\n",
        "ASSOC_NAME       sky.list       # name of the ASCII file to ASSOCiate\n",
        "ASSOC_DATA       2,3,4          # columns of the data to replicate (0=all)\n",
        "ASSOC_PARAMS     2,3,4          # columns of xpos,ypos[,mag]\n",
        "ASSOC_RADIUS     2.0            # cross-matching radius (pixels)\n",
        "ASSOC_TYPE       NEAREST        # ASSOCiation method: FIRST, NEAREST, MEAN,\n",
        "                                # MAG_MEAN, SUM, MAG_SUM, MIN or MAX\n",
        "ASSOCSELEC_TYPE  MATCHED        # ASSOC selection type: ALL, MATCHED or -MATCHED\n",
        "\n",
        "#----------------------------- Miscellaneous ---------------------------------\n",
        " \n",
        "VERBOSE_TYPE     NORMAL         # can be QUIET, NORMAL or FULL\n",
        "HEADER_SUFFIX    .head          # Filename extension for additional headers\n",
        "WRITE_XML        N              # Write XML file (Y/N)?\n",
        "XML_NAME         sex.xml        # Filename for XML output\n",
        "XSL_URL          file:///usr/local/share/sextractor/sextractor.xsl\n",
        "                                # Filename for XSL style-sheet\n",
        "\n"
       ]
      }
     ],
     "prompt_number": 79
    },
    {
     "cell_type": "code",
     "collapsed": false,
     "input": [
      "%%bash --err error \n",
      "\n",
      "sex -PARAMETERS_NAME default.param -FILTER_NAME default.conv -CATALOG_TYPE FITS_LDAC -CATALOG_NAME calexp-0283453_10.ldac \"calexp-0283453_10.fits[1]\" \n",
      "sex -PARAMETERS_NAME default.param -FILTER_NAME default.conv -CATALOG_TYPE ASCII_HEAD -CATALOG_NAME calexp-0283453_10.cat \"calexp-0283453_10.fits[1]\" "
     ],
     "language": "python",
     "metadata": {},
     "outputs": [],
     "prompt_number": 80
    },
    {
     "cell_type": "code",
     "collapsed": false,
     "input": [
      "print error"
     ],
     "language": "python",
     "metadata": {},
     "outputs": [
      {
       "output_type": "stream",
       "stream": "stdout",
       "text": [
        "\u001b[1M> \n",
        "\u001b[1A----- SExtractor 2.19.5 started on 2014-08-18 at 10:47:00 with 1 thread\n",
        "\n",
        "\u001b[1M> Setting catalog parameters\n",
        "\u001b[1A\u001b[1M> Reading detection filter\n",
        "\u001b[1A\u001b[1M> Initializing catalog\n",
        "\u001b[1A\u001b[1M> Looking for calexp-0283453_10.fits\n",
        "\u001b[1A----- Measuring from: calexp-0283453_10.fits [1/9]\n",
        "      \"Unnamed\" / no ext. header / 2046x4094 / 32 bits (floats)\n",
        "Detection+Measurement image: \u001b[1M> Setting up background maps\n",
        "\u001b[1A\u001b[1M> Setting up background map at line:   64\n",
        "\u001b[1A\u001b[1M> Setting up background map at line:  128\n",
        "\u001b[1A\u001b[1M> Setting up background map at line:  192\n",
        "\u001b[1A\u001b[1M> Setting up background map at line:  256\n",
        "\u001b[1A\u001b[1M> Setting up background map at line:  320\n",
        "\u001b[1A\u001b[1M> Setting up background map at line:  384\n",
        "\u001b[1A\u001b[1M> Setting up background map at line:  448\n",
        "\u001b[1A\u001b[1M> Setting up background map at line:  512\n",
        "\u001b[1A\u001b[1M> Setting up background map at line:  576\n",
        "\u001b[1A\u001b[1M> Setting up background map at line:  640\n",
        "\u001b[1A\u001b[1M> Setting up background map at line:  704\n",
        "\u001b[1A\u001b[1M> Setting up background map at line:  768\n",
        "\u001b[1A\u001b[1M> Setting up background map at line:  832\n",
        "\u001b[1A\u001b[1M> Setting up background map at line:  896\n",
        "\u001b[1A\u001b[1M> Setting up background map at line:  960\n",
        "\u001b[1A\u001b[1M> Setting up background map at line: 1024\n",
        "\u001b[1A\u001b[1M> Setting up background map at line: 1088\n",
        "\u001b[1A\u001b[1M> Setting up background map at line: 1152\n",
        "\u001b[1A\u001b[1M> Setting up background map at line: 1216\n",
        "\u001b[1A\u001b[1M> Setting up background map at line: 1280\n",
        "\u001b[1A\u001b[1M> Setting up background map at line: 1344\n",
        "\u001b[1A\u001b[1M> Setting up background map at line: 1408\n",
        "\u001b[1A\u001b[1M> Setting up background map at line: 1472\n",
        "\u001b[1A\u001b[1M> Setting up background map at line: 1536\n",
        "\u001b[1A\u001b[1M> Setting up background map at line: 1600\n",
        "\u001b[1A\u001b[1M> Setting up background map at line: 1664\n",
        "\u001b[1A\u001b[1M> Setting up background map at line: 1728\n",
        "\u001b[1A\u001b[1M> Setting up background map at line: 1792\n",
        "\u001b[1A\u001b[1M> Setting up background map at line: 1856\n",
        "\u001b[1A\u001b[1M> Setting up background map at line: 1920\n",
        "\u001b[1A\u001b[1M> Setting up background map at line: 1984\n",
        "\u001b[1A\u001b[1M> Setting up background map at line: 2048\n",
        "\u001b[1A\u001b[1M> Setting up background map at line: 2112\n",
        "\u001b[1A\u001b[1M> Setting up background map at line: 2176\n",
        "\u001b[1A\u001b[1M> Setting up background map at line: 2240\n",
        "\u001b[1A\u001b[1M> Setting up background map at line: 2304\n",
        "\u001b[1A\u001b[1M> Setting up background map at line: 2368\n",
        "\u001b[1A\u001b[1M> Setting up background map at line: 2432\n",
        "\u001b[1A\u001b[1M> Setting up background map at line: 2496\n",
        "\u001b[1A\u001b[1M> Setting up background map at line: 2560\n",
        "\u001b[1A\u001b[1M> Setting up background map at line: 2624\n",
        "\u001b[1A\u001b[1M> Setting up background map at line: 2688\n",
        "\u001b[1A\u001b[1M> Setting up background map at line: 2752\n",
        "\u001b[1A\u001b[1M> Setting up background map at line: 2816\n",
        "\u001b[1A\u001b[1M> Setting up background map at line: 2880\n",
        "\u001b[1A\u001b[1M> Setting up background map at line: 2944\n",
        "\u001b[1A\u001b[1M> Setting up background map at line: 3008\n",
        "\u001b[1A\u001b[1M> Setting up background map at line: 3072\n",
        "\u001b[1A\u001b[1M> Setting up background map at line: 3136\n",
        "\u001b[1A\u001b[1M> Setting up background map at line: 3200\n",
        "\u001b[1A\u001b[1M> Setting up background map at line: 3264\n",
        "\u001b[1A\u001b[1M> Setting up background map at line: 3328\n",
        "\u001b[1A\u001b[1M> Setting up background map at line: 3392\n",
        "\u001b[1A\u001b[1M> Setting up background map at line: 3456\n",
        "\u001b[1A\u001b[1M> Setting up background map at line: 3520\n",
        "\u001b[1A\u001b[1M> Setting up background map at line: 3584\n",
        "\u001b[1A\u001b[1M> Setting up background map at line: 3648\n",
        "\u001b[1A\u001b[1M> Setting up background map at line: 3712\n",
        "\u001b[1A\u001b[1M> Setting up background map at line: 3776\n",
        "\u001b[1A\u001b[1M> Setting up background map at line: 3840\n",
        "\u001b[1A\u001b[1M> Setting up background map at line: 3904\n",
        "\u001b[1A\u001b[1M> Setting up background map at line: 3968\n",
        "\u001b[1A\u001b[1M> Setting up background map at line: 4032\n",
        "\u001b[1A\u001b[1M> Filtering background map(s)\n",
        "\u001b[1A\u001b[1M> Computing background d-map\n",
        "\u001b[1A\u001b[1M> Computing background-noise d-map\n",
        "\u001b[1A(M+D) Background: 404.979    RMS: 10.791     / Threshold: 53.9551    \n",
        "\u001b[1M> Scanning image\n",
        "\u001b[1A\u001b[1M> Line:   25  Objects:        1 detected /        0 sextracted\n",
        "\u001b[1A\u001b[1M> Line:   50  Objects:       10 detected /        0 sextracted\n",
        "\u001b[1A\u001b[1M> Line:   75  Objects:       11 detected /        0 sextracted\n",
        "\u001b[1A\u001b[1M> Line:  100  Objects:       19 detected /        0 sextracted\n",
        "\u001b[1A\u001b[1M> Line:  125  Objects:       26 detected /        0 sextracted\n",
        "\u001b[1A\u001b[1M> Line:  150  Objects:       29 detected /        0 sextracted\n",
        "\u001b[1A\u001b[1M> Line:  175  Objects:       31 detected /        0 sextracted\n",
        "\u001b[1A\u001b[1M> Line:  200  Objects:       39 detected /        0 sextracted\n",
        "\u001b[1A\u001b[1M> Line:  225  Objects:       45 detected /        0 sextracted\n",
        "\u001b[1A\u001b[1M> Line:  250  Objects:       50 detected /        0 sextracted\n",
        "\u001b[1A\u001b[1M> Line:  275  Objects:       55 detected /        0 sextracted\n",
        "\u001b[1A\u001b[1M> Line:  300  Objects:       60 detected /        0 sextracted\n",
        "\u001b[1A\u001b[1M> Line:  325  Objects:       61 detected /        0 sextracted\n",
        "\u001b[1A\u001b[1M> Line:  350  Objects:       67 detected /        0 sextracted\n",
        "\u001b[1A\u001b[1M> Line:  375  Objects:       67 detected /        0 sextracted\n",
        "\u001b[1A\u001b[1M> Line:  400  Objects:       73 detected /        0 sextracted\n",
        "\u001b[1A\u001b[1M> Line:  425  Objects:       76 detected /        0 sextracted\n",
        "\u001b[1A\u001b[1M> Line:  450  Objects:       80 detected /        0 sextracted\n",
        "\u001b[1A\u001b[1M> Line:  475  Objects:       81 detected /        0 sextracted\n",
        "\u001b[1A\u001b[1M> Line:  500  Objects:       87 detected /        0 sextracted\n",
        "\u001b[1A\u001b[1M> Line:  525  Objects:       90 detected /        0 sextracted\n",
        "\u001b[1A\u001b[1M> Line:  550  Objects:       91 detected /        0 sextracted\n",
        "\u001b[1A\u001b[1M> Line:  575  Objects:       94 detected /        0 sextracted\n",
        "\u001b[1A\u001b[1M> Line:  600  Objects:       97 detected /        0 sextracted\n",
        "\u001b[1A\u001b[1M> Line:  625  Objects:      100 detected /        0 sextracted\n",
        "\u001b[1A\u001b[1M> Line:  650  Objects:      107 detected /        0 sextracted\n",
        "\u001b[1A\u001b[1M> Line:  675  Objects:      109 detected /        0 sextracted\n",
        "\u001b[1A\u001b[1M> Line:  700  Objects:      115 detected /        0 sextracted\n",
        "\u001b[1A\u001b[1M> Line:  725  Objects:      117 detected /        0 sextracted\n",
        "\u001b[1A\u001b[1M> Line:  750  Objects:      124 detected /        0 sextracted\n",
        "\u001b[1A\u001b[1M> Line:  775  Objects:      129 detected /        0 sextracted\n",
        "\u001b[1A\u001b[1M> Line:  800  Objects:      132 detected /        0 sextracted\n",
        "\u001b[1A\u001b[1M> Line:  825  Objects:      137 detected /        0 sextracted\n",
        "\u001b[1A\u001b[1M> Line:  850  Objects:      141 detected /        0 sextracted\n",
        "\u001b[1A\u001b[1M> Line:  875  Objects:      144 detected /        0 sextracted\n",
        "\u001b[1A\u001b[1M> Line:  900  Objects:      156 detected /        0 sextracted\n",
        "\u001b[1A\u001b[1M> Line:  925  Objects:      158 detected /        0 sextracted\n",
        "\u001b[1A\u001b[1M> Line:  950  Objects:      161 detected /        0 sextracted\n",
        "\u001b[1A\u001b[1M> Line:  975  Objects:      161 detected /        0 sextracted\n",
        "\u001b[1A\u001b[1M> Line: 1000  Objects:      167 detected /        0 sextracted\n",
        "\u001b[1A\u001b[1M> Line: 1022  Objects:      168 detected /        0 sextracted\n",
        "\u001b[1A\u001b[1M> Line: 1025  Objects:      170 detected /        6 sextracted\n",
        "\u001b[1A\u001b[1M> Line: 1050  Objects:      171 detected /       13 sextracted\n",
        "\u001b[1A\u001b[1M> Line: 1075  Objects:      173 detected /       16 sextracted\n",
        "\u001b[1A\u001b[1M> Line: 1100  Objects:      182 detected /       19 sextracted\n",
        "\u001b[1A\u001b[1M> Line: 1125  Objects:      187 detected /       25 sextracted\n",
        "\u001b[1A\u001b[1M> Line: 1150  Objects:      188 detected /       28 sextracted\n",
        "\u001b[1A\u001b[1M> Line: 1175  Objects:      194 detected /       30 sextracted\n",
        "\u001b[1A\u001b[1M> Line: 1200  Objects:      200 detected /       37 sextracted\n",
        "\u001b[1A\u001b[1M> Line: 1225  Objects:      208 detected /       40 sextracted\n",
        "\u001b[1A\u001b[1M> Line: 1250  Objects:      211 detected /       42 sextracted\n",
        "\u001b[1A\u001b[1M> Line: 1275  Objects:      212 detected /       47 sextracted\n",
        "\u001b[1A\u001b[1M> Line: 1300  Objects:      213 detected /       50 sextracted\n",
        "\u001b[1A\u001b[1M> Line: 1325  Objects:      213 detected /       52 sextracted\n",
        "\u001b[1A\u001b[1M> Line: 1350  Objects:      217 detected /       54 sextracted\n",
        "\u001b[1A\u001b[1M> Line: 1375  Objects:      231 detected /       56 sextracted\n",
        "\u001b[1A\u001b[1M> Line: 1400  Objects:      239 detected /       61 sextracted\n",
        "\u001b[1A\u001b[1M> Line: 1425  Objects:      246 detected /       63 sextracted\n",
        "\u001b[1A\u001b[1M> Line: 1450  Objects:      248 detected /       66 sextracted\n",
        "\u001b[1A\u001b[1M> Line: 1475  Objects:      250 detected /       67 sextracted\n",
        "\u001b[1A\u001b[1M> Line: 1500  Objects:      253 detected /       75 sextracted\n",
        "\u001b[1A\u001b[1M> Line: 1525  Objects:      260 detected /       79 sextracted\n",
        "\u001b[1A\u001b[1M> Line: 1550  Objects:      262 detected /       79 sextracted\n",
        "\u001b[1A\u001b[1M> Line: 1575  Objects:      274 detected /       83 sextracted\n",
        "\u001b[1A\u001b[1M> Line: 1600  Objects:      276 detected /       87 sextracted\n",
        "\u001b[1A\u001b[1M> Line: 1625  Objects:      282 detected /       90 sextracted\n",
        "\u001b[1A\u001b[1M> Line: 1650  Objects:      285 detected /       91 sextracted\n",
        "\u001b[1A\u001b[1M> Line: 1675  Objects:      286 detected /       93 sextracted\n",
        "\u001b[1A\u001b[1M> Line: 1700  Objects:      290 detected /       98 sextracted\n",
        "\u001b[1A\u001b[1M> Line: 1725  Objects:      293 detected /      101 sextracted\n",
        "\u001b[1A\u001b[1M> Line: 1750  Objects:      293 detected /      106 sextracted\n",
        "\u001b[1A\u001b[1M> Line: 1775  Objects:      297 detected /      115 sextracted\n",
        "\u001b[1A\u001b[1M> Line: 1800  Objects:      298 detected /      121 sextracted\n",
        "\u001b[1A\u001b[1M> Line: 1825  Objects:      303 detected /      122 sextracted\n",
        "\u001b[1A\u001b[1M> Line: 1850  Objects:      316 detected /      125 sextracted\n",
        "\u001b[1A\u001b[1M> Line: 1875  Objects:      320 detected /      128 sextracted\n",
        "\u001b[1A\u001b[1M> Line: 1900  Objects:      320 detected /      131 sextracted\n",
        "\u001b[1A\u001b[1M> Line: 1925  Objects:      321 detected /      132 sextracted\n",
        "\u001b[1A\u001b[1M> Line: 1950  Objects:      323 detected /      135 sextracted\n",
        "\u001b[1A\u001b[1M> Line: 1975  Objects:      329 detected /      139 sextracted\n",
        "\u001b[1A\u001b[1M> Line: 2000  Objects:      339 detected /      142 sextracted\n",
        "\u001b[1A\u001b[1M> Line: 2025  Objects:      340 detected /      147 sextracted\n",
        "\u001b[1A\u001b[1M> Line: 2050  Objects:      353 detected /      151 sextracted\n",
        "\u001b[1A\u001b[1M> Line: 2075  Objects:      356 detected /      152 sextracted\n",
        "\u001b[1A\u001b[1M> Line: 2100  Objects:      357 detected /      156 sextracted\n",
        "\u001b[1A\u001b[1M> Line: 2125  Objects:      368 detected /      161 sextracted\n",
        "\u001b[1A\u001b[1M> Line: 2150  Objects:      379 detected /      162 sextracted\n",
        "\u001b[1A\u001b[1M> Line: 2175  Objects:      381 detected /      166 sextracted\n",
        "\u001b[1A\u001b[1M> Line: 2200  Objects:      392 detected /      169 sextracted\n",
        "\u001b[1A\u001b[1M> Line: 2225  Objects:      394 detected /      172 sextracted\n",
        "\u001b[1A\u001b[1M> Line: 2250  Objects:      403 detected /      175 sextracted\n",
        "\u001b[1A\u001b[1M> Line: 2275  Objects:      408 detected /      178 sextracted\n",
        "\u001b[1A\u001b[1M> Line: 2300  Objects:      409 detected /      180 sextracted\n",
        "\u001b[1A\u001b[1M> Line: 2325  Objects:      410 detected /      181 sextracted\n",
        "\u001b[1A\u001b[1M> Line: 2350  Objects:      410 detected /      184 sextracted\n",
        "\u001b[1A\u001b[1M> Line: 2375  Objects:      415 detected /      187 sextracted\n",
        "\u001b[1A\u001b[1M> Line: 2400  Objects:      417 detected /      192 sextracted\n",
        "\u001b[1A\u001b[1M> Line: 2425  Objects:      418 detected /      196 sextracted\n",
        "\u001b[1A\u001b[1M> Line: 2450  Objects:      424 detected /      198 sextracted\n",
        "\u001b[1A\u001b[1M> Line: 2475  Objects:      428 detected /      203 sextracted\n",
        "\u001b[1A\u001b[1M> Line: 2500  Objects:      432 detected /      204 sextracted\n",
        "\u001b[1A\u001b[1M> Line: 2525  Objects:      435 detected /      205 sextracted\n",
        "\u001b[1A\u001b[1M> Line: 2550  Objects:      440 detected /      207 sextracted\n",
        "\u001b[1A\u001b[1M> Line: 2575  Objects:      452 detected /      209 sextracted\n",
        "\u001b[1A\u001b[1M> Line: 2600  Objects:      460 detected /      215 sextracted\n",
        "\u001b[1A\u001b[1M> Line: 2625  Objects:      462 detected /      218 sextracted\n",
        "\u001b[1A\u001b[1M> Line: 2650  Objects:      465 detected /      220 sextracted\n",
        "\u001b[1A\u001b[1M> Line: 2675  Objects:      468 detected /      222 sextracted\n",
        "\u001b[1A\u001b[1M> Line: 2700  Objects:      471 detected /      225 sextracted\n",
        "\u001b[1A\u001b[1M> Line: 2725  Objects:      477 detected /      229 sextracted\n",
        "\u001b[1A\u001b[1M> Line: 2750  Objects:      481 detected /      231 sextracted\n",
        "\u001b[1A\u001b[1M> Line: 2775  Objects:      484 detected /      236 sextracted\n",
        "\u001b[1A\u001b[1M> Line: 2800  Objects:      484 detected /      237 sextracted\n",
        "\u001b[1A\u001b[1M> Line: 2825  Objects:      487 detected /      240 sextracted\n",
        "\u001b[1A\u001b[1M> Line: 2850  Objects:      493 detected /      243 sextracted\n",
        "\u001b[1A\u001b[1M> Line: 2875  Objects:      495 detected /      245 sextracted\n",
        "\u001b[1A\u001b[1M> Line: 2900  Objects:      497 detected /      248 sextracted\n",
        "\u001b[1A\u001b[1M> Line: 2925  Objects:      504 detected /      255 sextracted\n",
        "\u001b[1A\u001b[1M> Line: 2950  Objects:      510 detected /      258 sextracted\n",
        "\u001b[1A\u001b[1M> Line: 2975  Objects:      511 detected /      265 sextracted\n",
        "\u001b[1A\u001b[1M> Line: 3000  Objects:      511 detected /      268 sextracted\n",
        "\u001b[1A\u001b[1M> Line: 3025  Objects:      511 detected /      270 sextracted\n",
        "\u001b[1A\u001b[1M> Line: 3050  Objects:      512 detected /      270 sextracted\n",
        "\u001b[1A\u001b[1M> Line: 3075  Objects:      517 detected /      270 sextracted\n",
        "\u001b[1A\u001b[1M> Line: 3100  Objects:      518 detected /      275 sextracted\n",
        "\u001b[1A\u001b[1M> Line: 3125  Objects:      521 detected /      285 sextracted\n",
        "\u001b[1A\u001b[1M> Line: 3150  Objects:      526 detected /      295 sextracted\n",
        "\u001b[1A\u001b[1M> Line: 3175  Objects:      532 detected /      295 sextracted\n",
        "\u001b[1A\u001b[1M> Line: 3200  Objects:      533 detected /      296 sextracted\n",
        "\u001b[1A\u001b[1M> Line: 3225  Objects:      535 detected /      297 sextracted\n",
        "\u001b[1A\u001b[1M> Line: 3250  Objects:      538 detected /      301 sextracted\n",
        "\u001b[1A\u001b[1M> Line: 3275  Objects:      540 detected /      303 sextracted\n",
        "\u001b[1A\u001b[1M> Line: 3300  Objects:      540 detected /      304 sextracted\n",
        "\u001b[1A\u001b[1M> Line: 3325  Objects:      541 detected /      305 sextracted\n",
        "\u001b[1A\u001b[1M> Line: 3350  Objects:      545 detected /      306 sextracted\n",
        "\u001b[1A\u001b[1M> Line: 3375  Objects:      547 detected /      309 sextracted\n",
        "\u001b[1A\u001b[1M> Line: 3400  Objects:      548 detected /      312 sextracted\n",
        "\u001b[1A\u001b[1M> Line: 3425  Objects:      550 detected /      312 sextracted\n",
        "\u001b[1A\u001b[1M> Line: 3450  Objects:      556 detected /      315 sextracted\n",
        "\u001b[1A\u001b[1M> Line: 3475  Objects:      557 detected /      316 sextracted\n",
        "\u001b[1A\u001b[1M> Line: 3500  Objects:      566 detected /      321 sextracted\n",
        "\u001b[1A\u001b[1M> Line: 3525  Objects:      568 detected /      324 sextracted\n",
        "\u001b[1A\u001b[1M> Line: 3550  Objects:      571 detected /      332 sextracted\n",
        "\u001b[1A\u001b[1M> Line: 3575  Objects:      587 detected /      338 sextracted\n",
        "\u001b[1A\u001b[1M> Line: 3600  Objects:      594 detected /      342 sextracted\n",
        "\u001b[1A\u001b[1M> Line: 3625  Objects:      600 detected /      348 sextracted\n",
        "\u001b[1A\u001b[1M> Line: 3650  Objects:      605 detected /      351 sextracted\n",
        "\u001b[1A\u001b[1M> Line: 3675  Objects:      607 detected /      355 sextracted\n",
        "\u001b[1A\u001b[1M> Line: 3700  Objects:      609 detected /      357 sextracted\n",
        "\u001b[1A\u001b[1M> Line: 3725  Objects:      613 detected /      364 sextracted\n",
        "\u001b[1A\u001b[1M> Line: 3750  Objects:      615 detected /      368 sextracted\n",
        "\u001b[1A\u001b[1M> Line: 3775  Objects:      616 detected /      370 sextracted\n",
        "\u001b[1A\u001b[1M> Line: 3800  Objects:      619 detected /      370 sextracted\n",
        "\u001b[1A\u001b[1M> Line: 3825  Objects:      640 detected /      384 sextracted\n",
        "\u001b[1A\u001b[1M> Line: 3850  Objects:      642 detected /      390 sextracted\n",
        "\u001b[1A\u001b[1M> Line: 3875  Objects:      646 detected /      392 sextracted\n",
        "\u001b[1A\u001b[1M> Line: 3900  Objects:      648 detected /      395 sextracted\n",
        "\u001b[1A\u001b[1M> Line: 3922  Objects:      650 detected /      400 sextracted\n",
        "\u001b[1A\u001b[1M> Line: 3925  Objects:      650 detected /      401 sextracted\n",
        "\u001b[1A\u001b[1M> Line: 3950  Objects:      656 detected /      407 sextracted\n",
        "\u001b[1A\u001b[1M> Line: 3975  Objects:      657 detected /      409 sextracted\n",
        "\u001b[1A\u001b[1M> Line: 4000  Objects:      660 detected /      409 sextracted\n",
        "\u001b[1A\u001b[1M> Line: 4025  Objects:      665 detected /      410 sextracted\n",
        "\u001b[1A\u001b[1M> Line: 4050  Objects:      672 detected /      410 sextracted\n",
        "\u001b[1A\u001b[1M> Line: 4075  Objects:      681 detected /      415 sextracted\n",
        "\u001b[1A      Objects: detected 686      / sextracted 552             \n",
        "\n",
        "\u001b[1M> Closing files\n",
        "\u001b[1A\u001b[1M> \n",
        "\u001b[1A> All done (in 1.5 s: 2666.4 lines/s , 359.5 detections/s)\n",
        "\u001b[1M> \n",
        "\u001b[1A----- SExtractor 2.19.5 started on 2014-08-18 at 10:47:01 with 1 thread\n",
        "\n",
        "\u001b[1M> Setting catalog parameters\n",
        "\u001b[1A\u001b[1M> Reading detection filter\n",
        "\u001b[1A\u001b[1M> Initializing catalog\n",
        "\u001b[1A\u001b[1M> Looking for calexp-0283453_10.fits\n",
        "\u001b[1A----- Measuring from: calexp-0283453_10.fits [1/9]\n",
        "      \"Unnamed\" / no ext. header / 2046x4094 / 32 bits (floats)\n",
        "Detection+Measurement image: \u001b[1M> Setting up background maps\n",
        "\u001b[1A\u001b[1M> Setting up background map at line:   64\n",
        "\u001b[1A\u001b[1M> Setting up background map at line:  128\n",
        "\u001b[1A\u001b[1M> Setting up background map at line:  192\n",
        "\u001b[1A\u001b[1M> Setting up background map at line:  256\n",
        "\u001b[1A\u001b[1M> Setting up background map at line:  320\n",
        "\u001b[1A\u001b[1M> Setting up background map at line:  384\n",
        "\u001b[1A\u001b[1M> Setting up background map at line:  448\n",
        "\u001b[1A\u001b[1M> Setting up background map at line:  512\n",
        "\u001b[1A\u001b[1M> Setting up background map at line:  576\n",
        "\u001b[1A\u001b[1M> Setting up background map at line:  640\n",
        "\u001b[1A\u001b[1M> Setting up background map at line:  704\n",
        "\u001b[1A\u001b[1M> Setting up background map at line:  768\n",
        "\u001b[1A\u001b[1M> Setting up background map at line:  832\n",
        "\u001b[1A\u001b[1M> Setting up background map at line:  896\n",
        "\u001b[1A\u001b[1M> Setting up background map at line:  960\n",
        "\u001b[1A\u001b[1M> Setting up background map at line: 1024\n",
        "\u001b[1A\u001b[1M> Setting up background map at line: 1088\n",
        "\u001b[1A\u001b[1M> Setting up background map at line: 1152\n",
        "\u001b[1A\u001b[1M> Setting up background map at line: 1216\n",
        "\u001b[1A\u001b[1M> Setting up background map at line: 1280\n",
        "\u001b[1A\u001b[1M> Setting up background map at line: 1344\n",
        "\u001b[1A\u001b[1M> Setting up background map at line: 1408\n",
        "\u001b[1A\u001b[1M> Setting up background map at line: 1472\n",
        "\u001b[1A\u001b[1M> Setting up background map at line: 1536\n",
        "\u001b[1A\u001b[1M> Setting up background map at line: 1600\n",
        "\u001b[1A\u001b[1M> Setting up background map at line: 1664\n",
        "\u001b[1A\u001b[1M> Setting up background map at line: 1728\n",
        "\u001b[1A\u001b[1M> Setting up background map at line: 1792\n",
        "\u001b[1A\u001b[1M> Setting up background map at line: 1856\n",
        "\u001b[1A\u001b[1M> Setting up background map at line: 1920\n",
        "\u001b[1A\u001b[1M> Setting up background map at line: 1984\n",
        "\u001b[1A\u001b[1M> Setting up background map at line: 2048\n",
        "\u001b[1A\u001b[1M> Setting up background map at line: 2112\n",
        "\u001b[1A\u001b[1M> Setting up background map at line: 2176\n",
        "\u001b[1A\u001b[1M> Setting up background map at line: 2240\n",
        "\u001b[1A\u001b[1M> Setting up background map at line: 2304\n",
        "\u001b[1A\u001b[1M> Setting up background map at line: 2368\n",
        "\u001b[1A\u001b[1M> Setting up background map at line: 2432\n",
        "\u001b[1A\u001b[1M> Setting up background map at line: 2496\n",
        "\u001b[1A\u001b[1M> Setting up background map at line: 2560\n",
        "\u001b[1A\u001b[1M> Setting up background map at line: 2624\n",
        "\u001b[1A\u001b[1M> Setting up background map at line: 2688\n",
        "\u001b[1A\u001b[1M> Setting up background map at line: 2752\n",
        "\u001b[1A\u001b[1M> Setting up background map at line: 2816\n",
        "\u001b[1A\u001b[1M> Setting up background map at line: 2880\n",
        "\u001b[1A\u001b[1M> Setting up background map at line: 2944\n",
        "\u001b[1A\u001b[1M> Setting up background map at line: 3008\n",
        "\u001b[1A\u001b[1M> Setting up background map at line: 3072\n",
        "\u001b[1A\u001b[1M> Setting up background map at line: 3136\n",
        "\u001b[1A\u001b[1M> Setting up background map at line: 3200\n",
        "\u001b[1A\u001b[1M> Setting up background map at line: 3264\n",
        "\u001b[1A\u001b[1M> Setting up background map at line: 3328\n",
        "\u001b[1A\u001b[1M> Setting up background map at line: 3392\n",
        "\u001b[1A\u001b[1M> Setting up background map at line: 3456\n",
        "\u001b[1A\u001b[1M> Setting up background map at line: 3520\n",
        "\u001b[1A\u001b[1M> Setting up background map at line: 3584\n",
        "\u001b[1A\u001b[1M> Setting up background map at line: 3648\n",
        "\u001b[1A\u001b[1M> Setting up background map at line: 3712\n",
        "\u001b[1A\u001b[1M> Setting up background map at line: 3776\n",
        "\u001b[1A\u001b[1M> Setting up background map at line: 3840\n",
        "\u001b[1A\u001b[1M> Setting up background map at line: 3904\n",
        "\u001b[1A\u001b[1M> Setting up background map at line: 3968\n",
        "\u001b[1A\u001b[1M> Setting up background map at line: 4032\n",
        "\u001b[1A\u001b[1M> Filtering background map(s)\n",
        "\u001b[1A\u001b[1M> Computing background d-map\n",
        "\u001b[1A\u001b[1M> Computing background-noise d-map\n",
        "\u001b[1A(M+D) Background: 404.979    RMS: 10.791     / Threshold: 53.9551    \n",
        "\u001b[1M> Scanning image\n",
        "\u001b[1A\u001b[1M> Line:   25  Objects:        1 detected /        0 sextracted\n",
        "\u001b[1A\u001b[1M> Line:   50  Objects:       10 detected /        0 sextracted\n",
        "\u001b[1A\u001b[1M> Line:   75  Objects:       11 detected /        0 sextracted\n",
        "\u001b[1A\u001b[1M> Line:  100  Objects:       19 detected /        0 sextracted\n",
        "\u001b[1A\u001b[1M> Line:  125  Objects:       26 detected /        0 sextracted\n",
        "\u001b[1A\u001b[1M> Line:  150  Objects:       29 detected /        0 sextracted\n",
        "\u001b[1A\u001b[1M> Line:  175  Objects:       31 detected /        0 sextracted\n",
        "\u001b[1A\u001b[1M> Line:  200  Objects:       39 detected /        0 sextracted\n",
        "\u001b[1A\u001b[1M> Line:  225  Objects:       45 detected /        0 sextracted\n",
        "\u001b[1A\u001b[1M> Line:  250  Objects:       50 detected /        0 sextracted\n",
        "\u001b[1A\u001b[1M> Line:  275  Objects:       55 detected /        0 sextracted\n",
        "\u001b[1A\u001b[1M> Line:  300  Objects:       60 detected /        0 sextracted\n",
        "\u001b[1A\u001b[1M> Line:  325  Objects:       61 detected /        0 sextracted\n",
        "\u001b[1A\u001b[1M> Line:  350  Objects:       67 detected /        0 sextracted\n",
        "\u001b[1A\u001b[1M> Line:  375  Objects:       67 detected /        0 sextracted\n",
        "\u001b[1A\u001b[1M> Line:  400  Objects:       73 detected /        0 sextracted\n",
        "\u001b[1A\u001b[1M> Line:  425  Objects:       76 detected /        0 sextracted\n",
        "\u001b[1A\u001b[1M> Line:  450  Objects:       80 detected /        0 sextracted\n",
        "\u001b[1A\u001b[1M> Line:  475  Objects:       81 detected /        0 sextracted\n",
        "\u001b[1A\u001b[1M> Line:  500  Objects:       87 detected /        0 sextracted\n",
        "\u001b[1A\u001b[1M> Line:  525  Objects:       90 detected /        0 sextracted\n",
        "\u001b[1A\u001b[1M> Line:  550  Objects:       91 detected /        0 sextracted\n",
        "\u001b[1A\u001b[1M> Line:  575  Objects:       94 detected /        0 sextracted\n",
        "\u001b[1A\u001b[1M> Line:  600  Objects:       97 detected /        0 sextracted\n",
        "\u001b[1A\u001b[1M> Line:  625  Objects:      100 detected /        0 sextracted\n",
        "\u001b[1A\u001b[1M> Line:  650  Objects:      107 detected /        0 sextracted\n",
        "\u001b[1A\u001b[1M> Line:  675  Objects:      109 detected /        0 sextracted\n",
        "\u001b[1A\u001b[1M> Line:  700  Objects:      115 detected /        0 sextracted\n",
        "\u001b[1A\u001b[1M> Line:  725  Objects:      117 detected /        0 sextracted\n",
        "\u001b[1A\u001b[1M> Line:  750  Objects:      124 detected /        0 sextracted\n",
        "\u001b[1A\u001b[1M> Line:  775  Objects:      129 detected /        0 sextracted\n",
        "\u001b[1A\u001b[1M> Line:  800  Objects:      132 detected /        0 sextracted\n",
        "\u001b[1A\u001b[1M> Line:  825  Objects:      137 detected /        0 sextracted\n",
        "\u001b[1A\u001b[1M> Line:  850  Objects:      141 detected /        0 sextracted\n",
        "\u001b[1A\u001b[1M> Line:  875  Objects:      144 detected /        0 sextracted\n",
        "\u001b[1A\u001b[1M> Line:  900  Objects:      156 detected /        0 sextracted\n",
        "\u001b[1A\u001b[1M> Line:  925  Objects:      158 detected /        0 sextracted\n",
        "\u001b[1A\u001b[1M> Line:  950  Objects:      161 detected /        0 sextracted\n",
        "\u001b[1A\u001b[1M> Line:  975  Objects:      161 detected /        0 sextracted\n",
        "\u001b[1A\u001b[1M> Line: 1000  Objects:      167 detected /        0 sextracted\n",
        "\u001b[1A\u001b[1M> Line: 1022  Objects:      168 detected /        0 sextracted\n",
        "\u001b[1A\u001b[1M> Line: 1025  Objects:      170 detected /        6 sextracted\n",
        "\u001b[1A\u001b[1M> Line: 1050  Objects:      171 detected /       13 sextracted\n",
        "\u001b[1A\u001b[1M> Line: 1075  Objects:      173 detected /       16 sextracted\n",
        "\u001b[1A\u001b[1M> Line: 1100  Objects:      182 detected /       19 sextracted\n",
        "\u001b[1A\u001b[1M> Line: 1125  Objects:      187 detected /       25 sextracted\n",
        "\u001b[1A\u001b[1M> Line: 1150  Objects:      188 detected /       28 sextracted\n",
        "\u001b[1A\u001b[1M> Line: 1175  Objects:      194 detected /       30 sextracted\n",
        "\u001b[1A\u001b[1M> Line: 1200  Objects:      200 detected /       37 sextracted\n",
        "\u001b[1A\u001b[1M> Line: 1225  Objects:      208 detected /       40 sextracted\n",
        "\u001b[1A\u001b[1M> Line: 1250  Objects:      211 detected /       42 sextracted\n",
        "\u001b[1A\u001b[1M> Line: 1275  Objects:      212 detected /       47 sextracted\n",
        "\u001b[1A\u001b[1M> Line: 1300  Objects:      213 detected /       50 sextracted\n",
        "\u001b[1A\u001b[1M> Line: 1325  Objects:      213 detected /       52 sextracted\n",
        "\u001b[1A\u001b[1M> Line: 1350  Objects:      217 detected /       54 sextracted\n",
        "\u001b[1A\u001b[1M> Line: 1375  Objects:      231 detected /       56 sextracted\n",
        "\u001b[1A\u001b[1M> Line: 1400  Objects:      239 detected /       61 sextracted\n",
        "\u001b[1A\u001b[1M> Line: 1425  Objects:      246 detected /       63 sextracted\n",
        "\u001b[1A\u001b[1M> Line: 1450  Objects:      248 detected /       66 sextracted\n",
        "\u001b[1A\u001b[1M> Line: 1475  Objects:      250 detected /       67 sextracted\n",
        "\u001b[1A\u001b[1M> Line: 1500  Objects:      253 detected /       75 sextracted\n",
        "\u001b[1A\u001b[1M> Line: 1525  Objects:      260 detected /       79 sextracted\n",
        "\u001b[1A\u001b[1M> Line: 1550  Objects:      262 detected /       79 sextracted\n",
        "\u001b[1A\u001b[1M> Line: 1575  Objects:      274 detected /       83 sextracted\n",
        "\u001b[1A\u001b[1M> Line: 1600  Objects:      276 detected /       87 sextracted\n",
        "\u001b[1A\u001b[1M> Line: 1625  Objects:      282 detected /       90 sextracted\n",
        "\u001b[1A\u001b[1M> Line: 1650  Objects:      285 detected /       91 sextracted\n",
        "\u001b[1A\u001b[1M> Line: 1675  Objects:      286 detected /       93 sextracted\n",
        "\u001b[1A\u001b[1M> Line: 1700  Objects:      290 detected /       98 sextracted\n",
        "\u001b[1A\u001b[1M> Line: 1725  Objects:      293 detected /      101 sextracted\n",
        "\u001b[1A\u001b[1M> Line: 1750  Objects:      293 detected /      106 sextracted\n",
        "\u001b[1A\u001b[1M> Line: 1775  Objects:      297 detected /      115 sextracted\n",
        "\u001b[1A\u001b[1M> Line: 1800  Objects:      298 detected /      121 sextracted\n",
        "\u001b[1A\u001b[1M> Line: 1825  Objects:      303 detected /      122 sextracted\n",
        "\u001b[1A\u001b[1M> Line: 1850  Objects:      316 detected /      125 sextracted\n",
        "\u001b[1A\u001b[1M> Line: 1875  Objects:      320 detected /      128 sextracted\n",
        "\u001b[1A\u001b[1M> Line: 1900  Objects:      320 detected /      131 sextracted\n",
        "\u001b[1A\u001b[1M> Line: 1925  Objects:      321 detected /      132 sextracted\n",
        "\u001b[1A\u001b[1M> Line: 1950  Objects:      323 detected /      135 sextracted\n",
        "\u001b[1A\u001b[1M> Line: 1975  Objects:      329 detected /      139 sextracted\n",
        "\u001b[1A\u001b[1M> Line: 2000  Objects:      339 detected /      142 sextracted\n",
        "\u001b[1A\u001b[1M> Line: 2025  Objects:      340 detected /      147 sextracted\n",
        "\u001b[1A\u001b[1M> Line: 2050  Objects:      353 detected /      151 sextracted\n",
        "\u001b[1A\u001b[1M> Line: 2075  Objects:      356 detected /      152 sextracted\n",
        "\u001b[1A\u001b[1M> Line: 2100  Objects:      357 detected /      156 sextracted\n",
        "\u001b[1A\u001b[1M> Line: 2125  Objects:      368 detected /      161 sextracted\n",
        "\u001b[1A\u001b[1M> Line: 2150  Objects:      379 detected /      162 sextracted\n",
        "\u001b[1A\u001b[1M> Line: 2175  Objects:      381 detected /      166 sextracted\n",
        "\u001b[1A\u001b[1M> Line: 2200  Objects:      392 detected /      169 sextracted\n",
        "\u001b[1A\u001b[1M> Line: 2225  Objects:      394 detected /      172 sextracted\n",
        "\u001b[1A\u001b[1M> Line: 2250  Objects:      403 detected /      175 sextracted\n",
        "\u001b[1A\u001b[1M> Line: 2275  Objects:      408 detected /      178 sextracted\n",
        "\u001b[1A\u001b[1M> Line: 2300  Objects:      409 detected /      180 sextracted\n",
        "\u001b[1A\u001b[1M> Line: 2325  Objects:      410 detected /      181 sextracted\n",
        "\u001b[1A\u001b[1M> Line: 2350  Objects:      410 detected /      184 sextracted\n",
        "\u001b[1A\u001b[1M> Line: 2375  Objects:      415 detected /      187 sextracted\n",
        "\u001b[1A\u001b[1M> Line: 2400  Objects:      417 detected /      192 sextracted\n",
        "\u001b[1A\u001b[1M> Line: 2425  Objects:      418 detected /      196 sextracted\n",
        "\u001b[1A\u001b[1M> Line: 2450  Objects:      424 detected /      198 sextracted\n",
        "\u001b[1A\u001b[1M> Line: 2475  Objects:      428 detected /      203 sextracted\n",
        "\u001b[1A\u001b[1M> Line: 2500  Objects:      432 detected /      204 sextracted\n",
        "\u001b[1A\u001b[1M> Line: 2525  Objects:      435 detected /      205 sextracted\n",
        "\u001b[1A\u001b[1M> Line: 2550  Objects:      440 detected /      207 sextracted\n",
        "\u001b[1A\u001b[1M> Line: 2575  Objects:      452 detected /      209 sextracted\n",
        "\u001b[1A\u001b[1M> Line: 2600  Objects:      460 detected /      215 sextracted\n",
        "\u001b[1A\u001b[1M> Line: 2625  Objects:      462 detected /      218 sextracted\n",
        "\u001b[1A\u001b[1M> Line: 2650  Objects:      465 detected /      220 sextracted\n",
        "\u001b[1A\u001b[1M> Line: 2675  Objects:      468 detected /      222 sextracted\n",
        "\u001b[1A\u001b[1M> Line: 2700  Objects:      471 detected /      225 sextracted\n",
        "\u001b[1A\u001b[1M> Line: 2725  Objects:      477 detected /      229 sextracted\n",
        "\u001b[1A\u001b[1M> Line: 2750  Objects:      481 detected /      231 sextracted\n",
        "\u001b[1A\u001b[1M> Line: 2775  Objects:      484 detected /      236 sextracted\n",
        "\u001b[1A\u001b[1M> Line: 2800  Objects:      484 detected /      237 sextracted\n",
        "\u001b[1A\u001b[1M> Line: 2825  Objects:      487 detected /      240 sextracted\n",
        "\u001b[1A\u001b[1M> Line: 2850  Objects:      493 detected /      243 sextracted\n",
        "\u001b[1A\u001b[1M> Line: 2875  Objects:      495 detected /      245 sextracted\n",
        "\u001b[1A\u001b[1M> Line: 2900  Objects:      497 detected /      248 sextracted\n",
        "\u001b[1A\u001b[1M> Line: 2925  Objects:      504 detected /      255 sextracted\n",
        "\u001b[1A\u001b[1M> Line: 2950  Objects:      510 detected /      258 sextracted\n",
        "\u001b[1A\u001b[1M> Line: 2975  Objects:      511 detected /      265 sextracted\n",
        "\u001b[1A\u001b[1M> Line: 3000  Objects:      511 detected /      268 sextracted\n",
        "\u001b[1A\u001b[1M> Line: 3025  Objects:      511 detected /      270 sextracted\n",
        "\u001b[1A\u001b[1M> Line: 3050  Objects:      512 detected /      270 sextracted\n",
        "\u001b[1A\u001b[1M> Line: 3075  Objects:      517 detected /      270 sextracted\n",
        "\u001b[1A\u001b[1M> Line: 3100  Objects:      518 detected /      275 sextracted\n",
        "\u001b[1A\u001b[1M> Line: 3125  Objects:      521 detected /      285 sextracted\n",
        "\u001b[1A\u001b[1M> Line: 3150  Objects:      526 detected /      295 sextracted\n",
        "\u001b[1A\u001b[1M> Line: 3175  Objects:      532 detected /      295 sextracted\n",
        "\u001b[1A\u001b[1M> Line: 3200  Objects:      533 detected /      296 sextracted\n",
        "\u001b[1A\u001b[1M> Line: 3225  Objects:      535 detected /      297 sextracted\n",
        "\u001b[1A\u001b[1M> Line: 3250  Objects:      538 detected /      301 sextracted\n",
        "\u001b[1A\u001b[1M> Line: 3275  Objects:      540 detected /      303 sextracted\n",
        "\u001b[1A\u001b[1M> Line: 3300  Objects:      540 detected /      304 sextracted\n",
        "\u001b[1A\u001b[1M> Line: 3325  Objects:      541 detected /      305 sextracted\n",
        "\u001b[1A\u001b[1M> Line: 3350  Objects:      545 detected /      306 sextracted\n",
        "\u001b[1A\u001b[1M> Line: 3375  Objects:      547 detected /      309 sextracted\n",
        "\u001b[1A\u001b[1M> Line: 3400  Objects:      548 detected /      312 sextracted\n",
        "\u001b[1A\u001b[1M> Line: 3425  Objects:      550 detected /      312 sextracted\n",
        "\u001b[1A\u001b[1M> Line: 3450  Objects:      556 detected /      315 sextracted\n",
        "\u001b[1A\u001b[1M> Line: 3475  Objects:      557 detected /      316 sextracted\n",
        "\u001b[1A\u001b[1M> Line: 3500  Objects:      566 detected /      321 sextracted\n",
        "\u001b[1A\u001b[1M> Line: 3525  Objects:      568 detected /      324 sextracted\n",
        "\u001b[1A\u001b[1M> Line: 3550  Objects:      571 detected /      332 sextracted\n",
        "\u001b[1A\u001b[1M> Line: 3575  Objects:      587 detected /      338 sextracted\n",
        "\u001b[1A\u001b[1M> Line: 3600  Objects:      594 detected /      342 sextracted\n",
        "\u001b[1A\u001b[1M> Line: 3625  Objects:      600 detected /      348 sextracted\n",
        "\u001b[1A\u001b[1M> Line: 3650  Objects:      605 detected /      351 sextracted\n",
        "\u001b[1A\u001b[1M> Line: 3675  Objects:      607 detected /      355 sextracted\n",
        "\u001b[1A\u001b[1M> Line: 3700  Objects:      609 detected /      357 sextracted\n",
        "\u001b[1A\u001b[1M> Line: 3725  Objects:      613 detected /      364 sextracted\n",
        "\u001b[1A\u001b[1M> Line: 3750  Objects:      615 detected /      368 sextracted\n",
        "\u001b[1A\u001b[1M> Line: 3775  Objects:      616 detected /      370 sextracted\n",
        "\u001b[1A\u001b[1M> Line: 3800  Objects:      619 detected /      370 sextracted\n",
        "\u001b[1A\u001b[1M> Line: 3825  Objects:      640 detected /      384 sextracted\n",
        "\u001b[1A\u001b[1M> Line: 3850  Objects:      642 detected /      390 sextracted\n",
        "\u001b[1A\u001b[1M> Line: 3875  Objects:      646 detected /      392 sextracted\n",
        "\u001b[1A\u001b[1M> Line: 3900  Objects:      648 detected /      395 sextracted\n",
        "\u001b[1A\u001b[1M> Line: 3922  Objects:      650 detected /      400 sextracted\n",
        "\u001b[1A\u001b[1M> Line: 3925  Objects:      650 detected /      401 sextracted\n",
        "\u001b[1A\u001b[1M> Line: 3950  Objects:      656 detected /      407 sextracted\n",
        "\u001b[1A\u001b[1M> Line: 3975  Objects:      657 detected /      409 sextracted\n",
        "\u001b[1A\u001b[1M> Line: 4000  Objects:      660 detected /      409 sextracted\n",
        "\u001b[1A\u001b[1M> Line: 4025  Objects:      665 detected /      410 sextracted\n",
        "\u001b[1A\u001b[1M> Line: 4050  Objects:      672 detected /      410 sextracted\n",
        "\u001b[1A\u001b[1M> Line: 4075  Objects:      681 detected /      415 sextracted\n",
        "\u001b[1A      Objects: detected 686      / sextracted 552             \n",
        "\n",
        "\u001b[1M> Closing files\n",
        "\u001b[1A\u001b[1M> \n",
        "\u001b[1A> All done (in 1.7 s: 2468.0 lines/s , 332.8 detections/s)\n",
        "\n"
       ]
      }
     ],
     "prompt_number": 81
    },
    {
     "cell_type": "code",
     "collapsed": false,
     "input": [
      "ds9.mtv(exposure, frame=frame, title=\"SExtractor Detections\")\n",
      "with ds9.Buffering():\n",
      "    for line in open(\"calexp-0283453_10.cat\").readlines():\n",
      "        if line.startswith(\"#\"):\n",
      "            continue\n",
      "        fields = line.split()\n",
      "        x = float(fields[3])\n",
      "        y = float(fields[4])\n",
      "        ds9.dot(\"+\", x, y, frame=frame)\n",
      "frame += 1"
     ],
     "language": "python",
     "metadata": {},
     "outputs": [],
     "prompt_number": 82
    },
    {
     "cell_type": "code",
     "collapsed": false,
     "input": [
      "%%bash\n",
      "/Users/becker/src/psfex/trunk.r206/bin/psfex -dd"
     ],
     "language": "python",
     "metadata": {},
     "outputs": [
      {
       "output_type": "stream",
       "stream": "stdout",
       "text": [
        "# Default configuration file for PSFEx 3.17.2\n",
        "# EB 2014-08-13\n",
        "#\n",
        " \n",
        "#-------------------------------- PSF model ----------------------------------\n",
        " \n",
        "BASIS_TYPE      PIXEL_AUTO      # NONE, PIXEL, GAUSS-LAGUERRE or FILE\n",
        "BASIS_NUMBER    20              # Basis number or parameter\n",
        "BASIS_NAME      basis.fits      # Basis filename (FITS data-cube)\n",
        "BASIS_SCALE     1.0             # Gauss-Laguerre beta parameter\n",
        "NEWBASIS_TYPE   NONE            # Create new basis: NONE, PCA_INDEPENDENT\n",
        "                                # or PCA_COMMON\n",
        "NEWBASIS_NUMBER 8               # Number of new basis vectors\n",
        "PSF_SAMPLING    0.0             # Sampling step in pixel units (0.0 = auto)\n",
        "PSF_PIXELSIZE   1.0             # Effective pixel size in pixel step units\n",
        "PSF_ACCURACY    0.01            # Accuracy to expect from PSF \"pixel\" values\n",
        "PSF_SIZE        25,25           # Image size of the PSF model\n",
        "PSF_RECENTER    N               # Allow recentering of PSF-candidates Y/N ?\n",
        "MEF_TYPE        INDEPENDENT     # INDEPENDENT or COMMON\n",
        " \n",
        "#------------------------- Point source measurements -------------------------\n",
        " \n",
        "CENTER_KEYS     X_IMAGE,Y_IMAGE # Catalogue parameters for source pre-centering\n",
        "PHOTFLUX_KEY    FLUX_APER(1)    # Catalogue parameter for photometric norm.\n",
        "PHOTFLUXERR_KEY FLUXERR_APER(1) # Catalogue parameter for photometric error\n",
        " \n",
        "#----------------------------- PSF variability -------------------------------\n",
        " \n",
        "PSFVAR_KEYS     X_IMAGE,Y_IMAGE # Catalogue or FITS (preceded by :) params\n",
        "PSFVAR_GROUPS   1,1             # Group tag for each context key\n",
        "PSFVAR_DEGREES  2               # Polynom degree for each group\n",
        "PSFVAR_NSNAP    9               # Number of PSF snapshots per axis\n",
        "HIDDENMEF_TYPE  COMMON          # INDEPENDENT or COMMON\n",
        "STABILITY_TYPE  EXPOSURE        # EXPOSURE or SEQUENCE\n",
        " \n",
        "#----------------------------- Sample selection ------------------------------\n",
        " \n",
        "SAMPLE_AUTOSELECT  Y            # Automatically select the FWHM (Y/N) ?\n",
        "SAMPLEVAR_TYPE     SEEING       # File-to-file PSF variability: NONE or SEEING\n",
        "SAMPLE_FWHMRANGE   2.0,10.0     # Allowed FWHM range\n",
        "SAMPLE_VARIABILITY 0.2          # Allowed FWHM variability (1.0 = 100%)\n",
        "SAMPLE_MINSN       20           # Minimum S/N for a source to be used\n",
        "SAMPLE_MAXELLIP    0.3          # Maximum (A-B)/(A+B) for a source to be used\n",
        "SAMPLE_FLAGMASK    0x00fe       # Rejection mask on SExtractor FLAGS\n",
        "SAMPLE_WFLAGMASK   0x0000       # Rejection mask on SExtractor FLAGS_WEIGHT\n",
        "SAMPLE_IMAFLAGMASK 0x0          # Rejection mask on SExtractor IMAFLAGS_ISO\n",
        "BADPIXEL_FILTER    N            # Filter bad-pixels in samples (Y/N) ?\n",
        "BADPIXEL_NMAX      0            # Maximum number of bad pixels allowed\n",
        " \n",
        "#----------------------- PSF homogeneisation kernel --------------------------\n",
        "\n",
        "HOMOBASIS_TYPE     NONE         # NONE or GAUSS-LAGUERRE\n",
        "HOMOBASIS_NUMBER   10           # Kernel basis number or parameter\n",
        "HOMOBASIS_SCALE    1.0          # GAUSS-LAGUERRE beta parameter\n",
        "HOMOPSF_PARAMS     2.0, 3.0     # Moffat parameters of the idealised PSF\n",
        "HOMOKERNEL_DIR                  # Where to write kernels (empty=same as input)\n",
        "HOMOKERNEL_SUFFIX  .homo.fits   # Filename extension for homogenisation kernels\n",
        "\n",
        "#----------------------------- Output catalogs -------------------------------\n",
        "\n",
        "OUTCAT_TYPE        NONE         # NONE, ASCII_HEAD, ASCII, FITS_LDAC\n",
        "OUTCAT_NAME        psfex_out.cat  # Output catalog filename\n",
        "\n",
        "#------------------------------- Check-plots ----------------------------------\n",
        " \n",
        "CHECKPLOT_DEV       PNG         # NULL, XWIN, TK, PS, PSC, XFIG, PNG,\n",
        "                                # JPEG, AQT, PDF or SVG\n",
        "CHECKPLOT_RES       0           # Check-plot resolution (0 = default)\n",
        "CHECKPLOT_ANTIALIAS Y           # Anti-aliasing using convert (Y/N) ?\n",
        "CHECKPLOT_TYPE      FWHM,ELLIPTICITY,COUNTS, COUNT_FRACTION, CHI2, RESIDUALS\n",
        "                                # or NONE\n",
        "CHECKPLOT_NAME      fwhm, ellipticity, counts, countfrac, chi2, resi\n",
        " \n",
        "#------------------------------ Check-Images ---------------------------------\n",
        " \n",
        "CHECKIMAGE_TYPE CHI,PROTOTYPES,SAMPLES,RESIDUALS,SNAPSHOTS\n",
        "                                # or MOFFAT,-MOFFAT,-SYMMETRICAL\n",
        "CHECKIMAGE_NAME chi.fits,proto.fits,samp.fits,resi.fits,snap.fits\n",
        "                                # Check-image filenames\n",
        "CHECKIMAGE_CUBE N               # Save check-images as datacubes (Y/N) ?\n",
        " \n",
        "#----------------------------- Miscellaneous ---------------------------------\n",
        " \n",
        "PSF_DIR                         # Where to write PSFs (empty=same as input)\n",
        "PSF_SUFFIX      .psf            # Filename extension for output PSF filename\n",
        "VERBOSE_TYPE    NORMAL          # can be QUIET,NORMAL,LOG or FULL\n",
        "WRITE_XML       Y               # Write XML file (Y/N)?\n",
        "XML_NAME        psfex.xml       # Filename for XML output\n",
        "XSL_URL         file:///Users/becker/src/psfex/trunk.r206/share/psfex/psfex.xsl\n",
        "                                # Filename for XSL style-sheet\n",
        "NTHREADS        0               # Number of simultaneous threads for\n",
        "                                # the SMP version of PSFEx\n",
        "                                # 0 = automatic\n",
        " \n"
       ]
      }
     ],
     "prompt_number": 83
    },
    {
     "cell_type": "code",
     "collapsed": false,
     "input": [
      "%%bash --err error\n",
      "/Users/becker/src/psfex/trunk.r206/bin/psfex calexp-0283453_10.ldac"
     ],
     "language": "python",
     "metadata": {},
     "outputs": [],
     "prompt_number": 84
    },
    {
     "cell_type": "code",
     "collapsed": false,
     "input": [
      "print error"
     ],
     "language": "python",
     "metadata": {},
     "outputs": [
      {
       "output_type": "stream",
       "stream": "stdout",
       "text": [
        "\n",
        "> WARNING: default.psfex not found, using internal defaults\n",
        "\n",
        "\u001b[1M> \n",
        "\u001b[1A----- PSFEx 3.17.2 started on 2014-08-18 at 10:47:14 with 8 threads\n",
        "\n",
        "\u001b[1M> \n",
        "\u001b[1A----- 1 input catalogues:\n",
        "calexp-0283453_10.ld:  \"no ident        \"    1 extension     552 detections\n",
        "\n",
        "\u001b[1M> Initializing contexts...\n",
        "\u001b[1A\u001b[1M> Computing optimum PSF sampling steps...\n",
        "\u001b[1A\u001b[1M> Reading data from calexp-0283453_10...\n",
        "\u001b[1A\u001b[1M> Computing final PSF model for calexp-0283453_10...\n",
        "\u001b[1A\u001b[7m   filename      [ext] accepted/total samp. chi2/dof FWHM ellip. resi. asym.\u001b[0m\n",
        "\u001b[1M> Computing diagnostics for calexp-0283453_10...\n",
        "\u001b[1Acalexp-0283453_10          191/213     1.05   1.11   4.14  0.04  0.01  0.02\n",
        "\u001b[1M> Saving CHECK-image #1...\n",
        "\u001b[1A\u001b[1M> Saving CHECK-image #2...\n",
        "\u001b[1A\u001b[1M> Saving CHECK-image #3...\n",
        "\u001b[1A\u001b[1M> Saving CHECK-image #4...\n",
        "\u001b[1A\u001b[1M> Saving CHECK-image #5...\n",
        "\u001b[1A\u001b[1M> Saving PSF model and metadata for calexp-0283453_10...\n",
        "dyld: Library not loaded: /opt/local/lib/libfftw3.3.dylib\n",
        "  Referenced from: /opt/local/bin/convert\n",
        "  Reason: Incompatible library version: convert requires version 8.0.0 or later, but libfftw3.3.dylib provides version 7.0.0\n",
        "dyld: Library not loaded: /opt/local/lib/libfftw3.3.dylib\n",
        "  Referenced from: /opt/local/bin/convert\n",
        "  Reason: Incompatible library version: convert requires version 8.0.0 or later, but libfftw3.3.dylib provides version 7.0.0\n",
        "dyld: Library not loaded: /opt/local/lib/libfftw3.3.dylib\n",
        "  Referenced from: /opt/local/bin/convert\n",
        "  Reason: Incompatible library version: convert requires version 8.0.0 or later, but libfftw3.3.dylib provides version 7.0.0\n",
        "dyld: Library not loaded: /opt/local/lib/libfftw3.3.dylib\n",
        "  Referenced from: /opt/local/bin/convert\n",
        "  Reason: Incompatible library version: convert requires version 8.0.0 or later, but libfftw3.3.dylib provides version 7.0.0\n",
        "dyld: Library not loaded: /opt/local/lib/libfftw3.3.dylib\n",
        "  Referenced from: /opt/local/bin/convert\n",
        "  Reason: Incompatible library version: convert requires version 8.0.0 or later, but libfftw3.3.dylib provides version 7.0.0\n",
        "dyld: Library not loaded: /opt/local/lib/libfftw3.3.dylib\n",
        "  Referenced from: /opt/local/bin/convert\n",
        "  Reason: Incompatible library version: convert requires version 8.0.0 or later, but libfftw3.3.dylib provides version 7.0.0\n",
        "\u001b[1A\u001b[1M> Writing XML file...\n",
        "\u001b[1A\u001b[1M> \n",
        "\u001b[1A> All done (in 4.0 s)\n",
        "\n"
       ]
      }
     ],
     "prompt_number": 85
    },
    {
     "cell_type": "code",
     "collapsed": false,
     "input": [
      "from IPython.display import Image, display\n",
      "i = Image(filename='fwhm_calexp-0283453_10.png')\n",
      "display(i)"
     ],
     "language": "python",
     "metadata": {},
     "outputs": [
      {
       "metadata": {},
       "output_type": "display_data",
       "png": "[encoded data removed]",
       "text": [
        "<IPython.core.display.Image at 0x1215c6690>"
       ]
      }
     ],
     "prompt_number": 86
    },
    {
     "cell_type": "code",
     "collapsed": false,
     "input": [
      "i = Image(filename='ellipticity_calexp-0283453_10.png')\n",
      "display(i)"
     ],
     "language": "python",
     "metadata": {},
     "outputs": [
      {
       "metadata": {},
       "output_type": "display_data",
       "png": "[encoded data removed]",
       "text": [
        "<IPython.core.display.Image at 0x1215c6290>"
       ]
      }
     ],
     "prompt_number": 87
    },
    {
     "cell_type": "markdown",
     "metadata": {},
     "source": [
      "What does the Psf model look like?"
     ]
    },
    {
     "cell_type": "code",
     "collapsed": false,
     "input": [
      "image = afwImage.ImageF(\"proto_calexp-0283453_10.fits\")\n",
      "ds9.mtv(image, frame=frame); frame += 1"
     ],
     "language": "python",
     "metadata": {},
     "outputs": [],
     "prompt_number": 88
    },
    {
     "cell_type": "markdown",
     "metadata": {},
     "source": [
      "And evaluated around the image?"
     ]
    },
    {
     "cell_type": "code",
     "collapsed": false,
     "input": [
      "image = afwImage.ImageF(\"snap_calexp-0283453_10.fits\")\n",
      "ds9.mtv(image, frame=frame); frame += 1"
     ],
     "language": "python",
     "metadata": {},
     "outputs": [],
     "prompt_number": 89
    },
    {
     "cell_type": "markdown",
     "metadata": {},
     "source": [
      "What stars were used in the Psf?"
     ]
    },
    {
     "cell_type": "code",
     "collapsed": false,
     "input": [
      "image = afwImage.ImageF(\"samp_calexp-0283453_10.fits\")\n",
      "ds9.mtv(image, frame=frame); frame += 1"
     ],
     "language": "python",
     "metadata": {},
     "outputs": [],
     "prompt_number": 90
    },
    {
     "cell_type": "markdown",
     "metadata": {},
     "source": [
      "What does the residual of the Psf model look like?"
     ]
    },
    {
     "cell_type": "code",
     "collapsed": false,
     "input": [
      "image = afwImage.ImageF(\"resi_calexp-0283453_10.fits\")\n",
      "ds9.mtv(image, frame=frame); frame += 1"
     ],
     "language": "python",
     "metadata": {},
     "outputs": [],
     "prompt_number": 91
    },
    {
     "cell_type": "markdown",
     "metadata": {},
     "source": [
      "Finally, use this model with SExtractor for a second pass at Psf modeling"
     ]
    },
    {
     "cell_type": "code",
     "collapsed": false,
     "input": [
      "%%bash --err error\n",
      "sex -GAIN 4.4 -PARAMETERS_NAME default.param.psf -FILTER_NAME default.conv -CATALOG_TYPE ASCII_HEAD -CATALOG_NAME calexp-0283453_10.psf.cat \"calexp-0283453_10.fits[1]\" -PSF_NAME calexp-0283453_10.psf"
     ],
     "language": "python",
     "metadata": {},
     "outputs": [],
     "prompt_number": 92
    },
    {
     "cell_type": "code",
     "collapsed": false,
     "input": [
      "ds9.mtv(exposure, frame=frame, title=\"SExtractor Detections Using Psf\")\n",
      "with ds9.Buffering():\n",
      "    for line in open(\"calexp-0283453_10.psf.cat\").readlines():\n",
      "        if line.startswith(\"#\"):\n",
      "            continue\n",
      "        fields = line.split()\n",
      "        x = float(fields[3])\n",
      "        y = float(fields[4])\n",
      "        ds9.dot(\"+\", x, y, frame=frame)\n",
      "frame += 1"
     ],
     "language": "python",
     "metadata": {},
     "outputs": [],
     "prompt_number": 93
    }
   ],
   "metadata": {}
  }
 ]
}